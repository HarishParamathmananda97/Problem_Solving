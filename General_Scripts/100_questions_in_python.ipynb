{
 "cells": [
  {
   "cell_type": "code",
   "execution_count": 1,
   "metadata": {},
   "outputs": [
    {
     "name": "stdout",
     "output_type": "stream",
     "text": [
      "13\n"
     ]
    }
   ],
   "source": [
    "# to find the length of the string.\n",
    "s = 'Tom_and_Jerry'\n",
    "print(len(s))\n"
   ]
  },
  {
   "cell_type": "code",
   "execution_count": 3,
   "metadata": {},
   "outputs": [
    {
     "name": "stdout",
     "output_type": "stream",
     "text": [
      "Out of Index.\n"
     ]
    }
   ],
   "source": [
    "# Challenge is print the index of that charater in string, if index exceeded, it should print out of index, else if string is empty, should print emtpy string.\n",
    "\n",
    "s = 'Tom_and_Jerry'\n",
    "s = input(\"Enter the string\")\n",
    "s = [letter for letter in s]\n",
    "index_of_choice = int(input('Enter the )number'))\n",
    "if len(s) == 0:\n",
    "    print(\"Empty String\")\n",
    "elif index_of_choice > len(s):\n",
    "    print(\"Out of Index.\")\n",
    "else:\n",
    "    print(s[index_of_choice - 1])"
   ]
  },
  {
   "cell_type": "code",
   "execution_count": 4,
   "metadata": {},
   "outputs": [
    {
     "name": "stdout",
     "output_type": "stream",
     "text": [
      "yrreJ_dna_moT\n"
     ]
    }
   ],
   "source": [
    "# Reverse a string..\n",
    "\n",
    "s = 'Tom_and_Jerry'\n",
    "\n",
    "print(s[::-1])\n"
   ]
  }
 ],
 "metadata": {
  "kernelspec": {
   "display_name": "Python 3",
   "language": "python",
   "name": "python3"
  },
  "language_info": {
   "codemirror_mode": {
    "name": "ipython",
    "version": 3
   },
   "file_extension": ".py",
   "mimetype": "text/x-python",
   "name": "python",
   "nbconvert_exporter": "python",
   "pygments_lexer": "ipython3",
   "version": "3.11.7"
  }
 },
 "nbformat": 4,
 "nbformat_minor": 2
}
