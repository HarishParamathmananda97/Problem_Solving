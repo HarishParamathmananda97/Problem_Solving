{
 "cells": [
  {
   "cell_type": "code",
   "execution_count": 5,
   "metadata": {},
   "outputs": [
    {
     "name": "stdout",
     "output_type": "stream",
     "text": [
      "5 3\n",
      "3 0\n",
      "15 5\n",
      "5 3\n",
      "15 12\n",
      "12 5\n",
      "15 12\n",
      "17 15\n",
      "[0, 3, 5, 12, 15, 17]\n"
     ]
    }
   ],
   "source": [
    "\"\"\"Selection Sort Algorithm\n",
    "Step1: Start\n",
    "Step2: Assign first value is minimum.\n",
    "Step3: Traverse through the list and if any value lesser than the minimum, then minimum value is that new number\n",
    "Step4: after the end of the loop swap the minimum value into first value and repeat step2\n",
    "Step5: we will get sorted list\n",
    "Step6: Stop\n",
    "\n",
    "Same goes in reverse order for finding maximum, we use first value is greater than the rest if not then take the new number as maximum number\n",
    "\n",
    "Step1: Starting from the first element search for smallest(biggest) element in the list of numbers.\n",
    "Step2: Swap minimum(Maximum) number with first element.\n",
    "Step3: Take the sublist(ignore soreted part) and repeat step1 and 2 until all the elements are sorted.\n",
    "\n",
    "\"\"\"\n",
    "\n",
    "class select_sort:\n",
    "    def __init__(self, arr):\n",
    "        self.arr = arr\n",
    "\n",
    "    def selection_sort(self):\n",
    "        # arr = [5, 15, 3, 12, 17, 0]\n",
    "        minimum = self.arr[0]\n",
    "        n = len(arr)\n",
    "        for i in range(n):\n",
    "            minimum = self.arr[i]\n",
    "            for j in range(i, n):\n",
    "                if j+1 < n and minimum > self.arr[j+1]:\n",
    "                    print(minimum, self.arr[j + 1])\n",
    "                    minimum = self.arr[j + 1]\n",
    "                    self.arr[j + 1] = self.arr[i]\n",
    "                    self.arr[i] = minimum\n",
    "\n",
    "        print(self.arr)\n",
    "            \n",
    "\n",
    "\n",
    "arr = [5, 15, 3, 12, 17, 0]\n",
    "srt = select_sort(arr)\n",
    "srt.selection_sort()\n",
    "\n",
    "\n"
   ]
  },
  {
   "cell_type": "code",
   "execution_count": 6,
   "metadata": {},
   "outputs": [
    {
     "name": "stdout",
     "output_type": "stream",
     "text": [
      "Step 1: [0, 15, 3, 12, 17, 5]\n",
      "Step 2: [0, 3, 15, 12, 17, 5]\n",
      "Step 3: [0, 3, 5, 12, 17, 15]\n",
      "Step 4: [0, 3, 5, 12, 17, 15]\n",
      "Step 5: [0, 3, 5, 12, 15, 17]\n",
      "Step 6: [0, 3, 5, 12, 15, 17]\n",
      "Sorted array: [0, 3, 5, 12, 15, 17]\n"
     ]
    }
   ],
   "source": [
    "#chatgpt optimized solution, lets learn this as well.\n",
    "class SelectSort:\n",
    "    def __init__(self, arr):\n",
    "        self.arr = arr\n",
    "\n",
    "    def selection_sort(self):\n",
    "        n = len(self.arr)\n",
    "        for i in range(n):\n",
    "            # Assume the first element is the minimum\n",
    "            min_index = i\n",
    "            for j in range(i+1, n):\n",
    "                # Update min_index if the element at j is less than the element at min_index\n",
    "                if self.arr[j] < self.arr[min_index]:\n",
    "                    min_index = j\n",
    "            # Swap the found minimum element with the first element of the unsorted part\n",
    "            self.arr[i], self.arr[min_index] = self.arr[min_index], self.arr[i]\n",
    "            print(f\"Step {i+1}: {self.arr}\")  # Optional: Print the array at each step for debugging\n",
    "\n",
    "        print(\"Sorted array:\", self.arr)\n",
    "\n",
    "# Example usage\n",
    "arr = [5, 15, 3, 12, 17, 0]\n",
    "srt = SelectSort(arr)\n",
    "srt.selection_sort()\n"
   ]
  }
 ],
 "metadata": {
  "kernelspec": {
   "display_name": "Python 3",
   "language": "python",
   "name": "python3"
  },
  "language_info": {
   "codemirror_mode": {
    "name": "ipython",
    "version": 3
   },
   "file_extension": ".py",
   "mimetype": "text/x-python",
   "name": "python",
   "nbconvert_exporter": "python",
   "pygments_lexer": "ipython3",
   "version": "3.11.7"
  }
 },
 "nbformat": 4,
 "nbformat_minor": 2
}
