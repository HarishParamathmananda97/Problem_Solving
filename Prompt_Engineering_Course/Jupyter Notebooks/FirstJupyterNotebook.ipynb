{
 "cells": [
  {
   "cell_type": "markdown",
   "id": "c90a7909",
   "metadata": {},
   "source": [
    "# Intro to Joupyter Notebook\n",
    "### simple sum of number "
   ]
  },
  {
   "cell_type": "code",
   "execution_count": 31,
   "id": "a84ce234",
   "metadata": {},
   "outputs": [],
   "source": [
    "%config Completer.use_jedi = False"
   ]
  },
  {
   "cell_type": "code",
   "execution_count": 32,
   "id": "c4566db7",
   "metadata": {},
   "outputs": [
    {
     "data": {
      "text/plain": [
       "4"
      ]
     },
     "execution_count": 32,
     "metadata": {},
     "output_type": "execute_result"
    }
   ],
   "source": [
    "2+2\n"
   ]
  },
  {
   "cell_type": "code",
   "execution_count": 33,
   "id": "18932015",
   "metadata": {
    "scrolled": true
   },
   "outputs": [
    {
     "data": {
      "text/plain": [
       "8"
      ]
     },
     "execution_count": 33,
     "metadata": {},
     "output_type": "execute_result"
    }
   ],
   "source": [
    "2+3+3"
   ]
  },
  {
   "cell_type": "code",
   "execution_count": 34,
   "id": "883357b8",
   "metadata": {},
   "outputs": [
    {
     "data": {
      "text/plain": [
       "6"
      ]
     },
     "execution_count": 34,
     "metadata": {},
     "output_type": "execute_result"
    }
   ],
   "source": [
    "1+1\n",
    "2+2\n",
    "3+3"
   ]
  },
  {
   "cell_type": "code",
   "execution_count": 35,
   "id": "3ae33da6",
   "metadata": {},
   "outputs": [
    {
     "name": "stdout",
     "output_type": "stream",
     "text": [
      "2\n",
      "4\n",
      "6\n"
     ]
    }
   ],
   "source": [
    "print(1+1)\n",
    "print(2+2)\n",
    "print(3+3)\n"
   ]
  },
  {
   "cell_type": "code",
   "execution_count": 36,
   "id": "d81662f3",
   "metadata": {},
   "outputs": [],
   "source": [
    "import pandas as pd\n",
    "import numpy as np\n"
   ]
  },
  {
   "cell_type": "code",
   "execution_count": 37,
   "id": "0b604f85",
   "metadata": {},
   "outputs": [
    {
     "data": {
      "text/plain": [
       "'1.5.3'"
      ]
     },
     "execution_count": 37,
     "metadata": {},
     "output_type": "execute_result"
    }
   ],
   "source": [
    "pd.__version__\n"
   ]
  },
  {
   "cell_type": "code",
   "execution_count": 41,
   "id": "2322900e",
   "metadata": {},
   "outputs": [],
   "source": [
    "x_1 = 1+1 "
   ]
  },
  {
   "cell_type": "code",
   "execution_count": 42,
   "id": "fda69944",
   "metadata": {},
   "outputs": [
    {
     "data": {
      "text/plain": [
       "2"
      ]
     },
     "execution_count": 42,
     "metadata": {},
     "output_type": "execute_result"
    }
   ],
   "source": [
    "x_1"
   ]
  },
  {
   "cell_type": "code",
   "execution_count": 43,
   "id": "a1e605fc",
   "metadata": {},
   "outputs": [
    {
     "name": "stdout",
     "output_type": "stream",
     "text": [
      "2\n"
     ]
    }
   ],
   "source": [
    "print(x_1)"
   ]
  },
  {
   "cell_type": "code",
   "execution_count": null,
   "id": "552cb73f",
   "metadata": {},
   "outputs": [],
   "source": [
    "#this is a comment \n",
    "\n"
   ]
  },
  {
   "cell_type": "code",
   "execution_count": 44,
   "id": "5d23ea56",
   "metadata": {},
   "outputs": [],
   "source": [
    "#Import Pandas library \n",
    "import pandas as pd\n"
   ]
  },
  {
   "cell_type": "code",
   "execution_count": 45,
   "id": "961d3f6a",
   "metadata": {},
   "outputs": [
    {
     "data": {
      "text/plain": [
       "'1.5.3'"
      ]
     },
     "execution_count": 45,
     "metadata": {},
     "output_type": "execute_result"
    }
   ],
   "source": [
    "#check for pandas version \n",
    "pd.__version__\n"
   ]
  },
  {
   "cell_type": "code",
   "execution_count": 47,
   "id": "cb9b4fd8",
   "metadata": {},
   "outputs": [
    {
     "data": {
      "text/plain": [
       "4"
      ]
     },
     "execution_count": 47,
     "metadata": {},
     "output_type": "execute_result"
    }
   ],
   "source": [
    "\n",
    "2+2"
   ]
  },
  {
   "cell_type": "code",
   "execution_count": 53,
   "id": "d60f8dfe",
   "metadata": {},
   "outputs": [
    {
     "data": {
      "text/plain": [
       "bool"
      ]
     },
     "execution_count": 53,
     "metadata": {},
     "output_type": "execute_result"
    }
   ],
   "source": [
    "type(10.1 == 12)\n"
   ]
  },
  {
   "cell_type": "code",
   "execution_count": 49,
   "id": "00d8aa08",
   "metadata": {},
   "outputs": [
    {
     "data": {
      "text/plain": [
       "str"
      ]
     },
     "execution_count": 49,
     "metadata": {},
     "output_type": "execute_result"
    }
   ],
   "source": [
    "type(\"Hello, world!\")\n"
   ]
  },
  {
   "cell_type": "code",
   "execution_count": 54,
   "id": "ecebc726",
   "metadata": {},
   "outputs": [
    {
     "name": "stdout",
     "output_type": "stream",
     "text": [
      "3.3333333333333335\n"
     ]
    }
   ],
   "source": [
    "a = 10\n",
    "b = 3.0\n",
    "c = a / b\n",
    "print(c) "
   ]
  },
  {
   "cell_type": "code",
   "execution_count": 55,
   "id": "6b7771db",
   "metadata": {},
   "outputs": [
    {
     "data": {
      "text/plain": [
       "float"
      ]
     },
     "execution_count": 55,
     "metadata": {},
     "output_type": "execute_result"
    }
   ],
   "source": [
    "type(c)"
   ]
  },
  {
   "cell_type": "code",
   "execution_count": 57,
   "id": "1e595d44",
   "metadata": {},
   "outputs": [
    {
     "data": {
      "text/plain": [
       "int"
      ]
     },
     "execution_count": 57,
     "metadata": {},
     "output_type": "execute_result"
    }
   ],
   "source": [
    "type(a)"
   ]
  },
  {
   "cell_type": "code",
   "execution_count": 59,
   "id": "7c4dc201",
   "metadata": {},
   "outputs": [
    {
     "data": {
      "text/plain": [
       "str"
      ]
     },
     "execution_count": 59,
     "metadata": {},
     "output_type": "execute_result"
    }
   ],
   "source": [
    "type('123')"
   ]
  },
  {
   "cell_type": "code",
   "execution_count": 60,
   "id": "3780b8f1",
   "metadata": {},
   "outputs": [
    {
     "data": {
      "text/plain": [
       "int"
      ]
     },
     "execution_count": 60,
     "metadata": {},
     "output_type": "execute_result"
    }
   ],
   "source": [
    "type(123)"
   ]
  },
  {
   "cell_type": "code",
   "execution_count": 61,
   "id": "e586cd9c",
   "metadata": {},
   "outputs": [
    {
     "data": {
      "text/plain": [
       "float"
      ]
     },
     "execution_count": 61,
     "metadata": {},
     "output_type": "execute_result"
    }
   ],
   "source": [
    "type(123.0)"
   ]
  },
  {
   "cell_type": "code",
   "execution_count": 62,
   "id": "7216117f",
   "metadata": {},
   "outputs": [
    {
     "name": "stdout",
     "output_type": "stream",
     "text": [
      "False\n"
     ]
    }
   ],
   "source": [
    "result = 2+2 == 5\n",
    "print(result)"
   ]
  },
  {
   "cell_type": "code",
   "execution_count": 63,
   "id": "a343f585",
   "metadata": {},
   "outputs": [
    {
     "data": {
      "text/plain": [
       "3.5"
      ]
     },
     "execution_count": 63,
     "metadata": {},
     "output_type": "execute_result"
    }
   ],
   "source": [
    "7 / 2"
   ]
  },
  {
   "cell_type": "code",
   "execution_count": 64,
   "id": "23f283c9",
   "metadata": {},
   "outputs": [
    {
     "data": {
      "text/plain": [
       "True"
      ]
     },
     "execution_count": 64,
     "metadata": {},
     "output_type": "execute_result"
    }
   ],
   "source": [
    "2 + 2 == 4"
   ]
  },
  {
   "cell_type": "code",
   "execution_count": 67,
   "id": "58f5abe1",
   "metadata": {},
   "outputs": [
    {
     "data": {
      "text/plain": [
       "False"
      ]
     },
     "execution_count": 67,
     "metadata": {},
     "output_type": "execute_result"
    }
   ],
   "source": [
    "2 + 2 != 4"
   ]
  },
  {
   "cell_type": "code",
   "execution_count": 68,
   "id": "d980ac28",
   "metadata": {},
   "outputs": [
    {
     "data": {
      "text/plain": [
       "False"
      ]
     },
     "execution_count": 68,
     "metadata": {},
     "output_type": "execute_result"
    }
   ],
   "source": [
    "2 + 2 == 5"
   ]
  },
  {
   "cell_type": "code",
   "execution_count": 69,
   "id": "04558901",
   "metadata": {},
   "outputs": [
    {
     "data": {
      "text/plain": [
       "True"
      ]
     },
     "execution_count": 69,
     "metadata": {},
     "output_type": "execute_result"
    }
   ],
   "source": [
    "2 + 2 != 5"
   ]
  },
  {
   "cell_type": "code",
   "execution_count": 70,
   "id": "867c96d6",
   "metadata": {},
   "outputs": [
    {
     "data": {
      "text/plain": [
       "True"
      ]
     },
     "execution_count": 70,
     "metadata": {},
     "output_type": "execute_result"
    }
   ],
   "source": [
    "2 < 3 "
   ]
  },
  {
   "cell_type": "code",
   "execution_count": 71,
   "id": "47cd26c6",
   "metadata": {},
   "outputs": [
    {
     "data": {
      "text/plain": [
       "True"
      ]
     },
     "execution_count": 71,
     "metadata": {},
     "output_type": "execute_result"
    }
   ],
   "source": [
    "3 < 4"
   ]
  },
  {
   "cell_type": "code",
   "execution_count": 74,
   "id": "6c3e8a60",
   "metadata": {},
   "outputs": [
    {
     "data": {
      "text/plain": [
       "False"
      ]
     },
     "execution_count": 74,
     "metadata": {},
     "output_type": "execute_result"
    }
   ],
   "source": [
    "  2 < 3 and 3 < 2\n",
    "# True and False"
   ]
  },
  {
   "cell_type": "code",
   "execution_count": 75,
   "id": "516b82c8",
   "metadata": {},
   "outputs": [
    {
     "data": {
      "text/plain": [
       "True"
      ]
     },
     "execution_count": 75,
     "metadata": {},
     "output_type": "execute_result"
    }
   ],
   "source": [
    "  2 < 3 or 3 < 2\n",
    "# True and False"
   ]
  },
  {
   "cell_type": "code",
   "execution_count": 78,
   "id": "f5bcab52",
   "metadata": {},
   "outputs": [
    {
     "data": {
      "text/plain": [
       "True"
      ]
     },
     "execution_count": 78,
     "metadata": {},
     "output_type": "execute_result"
    }
   ],
   "source": [
    "not (5 < 3)"
   ]
  },
  {
   "cell_type": "code",
   "execution_count": 79,
   "id": "6fa94a74",
   "metadata": {},
   "outputs": [
    {
     "data": {
      "text/plain": [
       "3.0"
      ]
     },
     "execution_count": 79,
     "metadata": {},
     "output_type": "execute_result"
    }
   ],
   "source": [
    "5 + 4 * 3 / 6 - 2 ** 2\n"
   ]
  },
  {
   "cell_type": "code",
   "execution_count": 89,
   "id": "3745ebe5",
   "metadata": {},
   "outputs": [],
   "source": [
    "X= 10"
   ]
  },
  {
   "cell_type": "code",
   "execution_count": 91,
   "id": "324aa824",
   "metadata": {},
   "outputs": [],
   "source": [
    "y = X +2 "
   ]
  },
  {
   "cell_type": "code",
   "execution_count": 92,
   "id": "ef514523",
   "metadata": {},
   "outputs": [
    {
     "data": {
      "text/plain": [
       "12"
      ]
     },
     "execution_count": 92,
     "metadata": {},
     "output_type": "execute_result"
    }
   ],
   "source": [
    "y"
   ]
  },
  {
   "cell_type": "code",
   "execution_count": 105,
   "id": "25d75cd9",
   "metadata": {},
   "outputs": [
    {
     "data": {
      "text/plain": [
       "10"
      ]
     },
     "execution_count": 105,
     "metadata": {},
     "output_type": "execute_result"
    }
   ],
   "source": [
    "age = 10 \n",
    "age_5_added =  age + 5 # 10 +5 = 15 \n",
    "age__1_added = age +10  #15 +10 = 25\n",
    "\n",
    "age"
   ]
  },
  {
   "cell_type": "code",
   "execution_count": 106,
   "id": "5624d512",
   "metadata": {},
   "outputs": [
    {
     "data": {
      "text/plain": [
       "15"
      ]
     },
     "execution_count": 106,
     "metadata": {},
     "output_type": "execute_result"
    }
   ],
   "source": [
    "age_5_added"
   ]
  },
  {
   "cell_type": "code",
   "execution_count": 107,
   "id": "fc9ac3f0",
   "metadata": {},
   "outputs": [
    {
     "data": {
      "text/plain": [
       "20"
      ]
     },
     "execution_count": 107,
     "metadata": {},
     "output_type": "execute_result"
    }
   ],
   "source": [
    "age__1_added"
   ]
  },
  {
   "cell_type": "code",
   "execution_count": 109,
   "id": "a026de74",
   "metadata": {},
   "outputs": [
    {
     "name": "stdout",
     "output_type": "stream",
     "text": [
      "Hello, world!!\n"
     ]
    }
   ],
   "source": [
    "print(\"Hello, world!!\")"
   ]
  },
  {
   "cell_type": "code",
   "execution_count": 110,
   "id": "2e963775",
   "metadata": {},
   "outputs": [
    {
     "data": {
      "text/plain": [
       "str"
      ]
     },
     "execution_count": 110,
     "metadata": {},
     "output_type": "execute_result"
    }
   ],
   "source": [
    "type(\"Hello\")"
   ]
  },
  {
   "cell_type": "code",
   "execution_count": 113,
   "id": "a5538886",
   "metadata": {},
   "outputs": [
    {
     "data": {
      "text/plain": [
       "5"
      ]
     },
     "execution_count": 113,
     "metadata": {},
     "output_type": "execute_result"
    }
   ],
   "source": [
    "len(\"Hello\")"
   ]
  },
  {
   "cell_type": "code",
   "execution_count": 117,
   "id": "7f704dc7",
   "metadata": {},
   "outputs": [
    {
     "data": {
      "text/plain": [
       "int"
      ]
     },
     "execution_count": 117,
     "metadata": {},
     "output_type": "execute_result"
    }
   ],
   "source": [
    "x = 123 \n",
    "type(x)\n"
   ]
  },
  {
   "cell_type": "code",
   "execution_count": 118,
   "id": "9aa2a6bd",
   "metadata": {},
   "outputs": [],
   "source": [
    "y = str(x)"
   ]
  },
  {
   "cell_type": "code",
   "execution_count": 119,
   "id": "c945a90f",
   "metadata": {},
   "outputs": [
    {
     "data": {
      "text/plain": [
       "str"
      ]
     },
     "execution_count": 119,
     "metadata": {},
     "output_type": "execute_result"
    }
   ],
   "source": [
    "type(y)"
   ]
  },
  {
   "cell_type": "code",
   "execution_count": 120,
   "id": "24a555d5",
   "metadata": {},
   "outputs": [
    {
     "data": {
      "text/plain": [
       "'123'"
      ]
     },
     "execution_count": 120,
     "metadata": {},
     "output_type": "execute_result"
    }
   ],
   "source": [
    "y"
   ]
  },
  {
   "cell_type": "code",
   "execution_count": 130,
   "id": "9b7fd0fb",
   "metadata": {},
   "outputs": [],
   "source": [
    "z = float(y)"
   ]
  },
  {
   "cell_type": "code",
   "execution_count": 131,
   "id": "d4d42b39",
   "metadata": {},
   "outputs": [
    {
     "data": {
      "text/plain": [
       "float"
      ]
     },
     "execution_count": 131,
     "metadata": {},
     "output_type": "execute_result"
    }
   ],
   "source": [
    "type(z)"
   ]
  },
  {
   "cell_type": "code",
   "execution_count": 132,
   "id": "a4d3adfa",
   "metadata": {},
   "outputs": [
    {
     "data": {
      "text/plain": [
       "123.0"
      ]
     },
     "execution_count": 132,
     "metadata": {},
     "output_type": "execute_result"
    }
   ],
   "source": [
    "z"
   ]
  },
  {
   "cell_type": "code",
   "execution_count": 145,
   "id": "664876aa",
   "metadata": {},
   "outputs": [],
   "source": [
    "def inches_to_cm(inches=0):\n",
    "    \"\"\"\n",
    "    Converts inches to centimeters.\n",
    "\n",
    "    Args:\n",
    "        inches (float): A length in inches.\n",
    "\n",
    "    Returns:\n",
    "        float: The length in centimeters.\n",
    "    \"\"\"\n",
    "    cm = inches * 2.54\n",
    "    return cm\n"
   ]
  },
  {
   "cell_type": "code",
   "execution_count": 146,
   "id": "8095c1b1",
   "metadata": {},
   "outputs": [
    {
     "data": {
      "text/plain": [
       "0.0"
      ]
     },
     "execution_count": 146,
     "metadata": {},
     "output_type": "execute_result"
    }
   ],
   "source": [
    "result = inches_to_cm(0)\n",
    "result"
   ]
  },
  {
   "cell_type": "code",
   "execution_count": 148,
   "id": "d49c1fee",
   "metadata": {},
   "outputs": [
    {
     "data": {
      "text/plain": [
       "0.0"
      ]
     },
     "execution_count": 148,
     "metadata": {},
     "output_type": "execute_result"
    }
   ],
   "source": [
    "result = inches_to_cm()\n",
    "result"
   ]
  },
  {
   "cell_type": "code",
   "execution_count": 149,
   "id": "f0f1db12",
   "metadata": {},
   "outputs": [],
   "source": [
    "def calculate_rectangle_area(width=1, height=1):\n",
    "    \"\"\"\n",
    "    Calculates the area of a rectangle.\n",
    "\n",
    "    Args:\n",
    "        width (float): The width of the rectangle. Default is 1.\n",
    "        height (float): The height of the rectangle. Default is 1.\n",
    "\n",
    "    Returns:\n",
    "        float: The area of the rectangle.\n",
    "    \"\"\"\n",
    "    area = width * height\n",
    "    return area"
   ]
  },
  {
   "cell_type": "code",
   "execution_count": 150,
   "id": "0802cae5",
   "metadata": {},
   "outputs": [
    {
     "data": {
      "text/plain": [
       "100"
      ]
     },
     "execution_count": 150,
     "metadata": {},
     "output_type": "execute_result"
    }
   ],
   "source": [
    "calculate_rectangle_area(10,10)"
   ]
  },
  {
   "cell_type": "code",
   "execution_count": 158,
   "id": "09dcf717",
   "metadata": {},
   "outputs": [
    {
     "data": {
      "text/plain": [
       "4"
      ]
     },
     "execution_count": 158,
     "metadata": {},
     "output_type": "execute_result"
    }
   ],
   "source": [
    "calculate_rectangle_area(4)"
   ]
  },
  {
   "cell_type": "code",
   "execution_count": 162,
   "id": "cebd958c",
   "metadata": {},
   "outputs": [
    {
     "data": {
      "text/plain": [
       "'hexxo worxd'"
      ]
     },
     "execution_count": 162,
     "metadata": {},
     "output_type": "execute_result"
    }
   ],
   "source": [
    "my_string = \"hello world\"\n",
    "new_string = my_string.replace(\"l\", \"x\")\n",
    "new_string "
   ]
  },
  {
   "cell_type": "code",
   "execution_count": 165,
   "id": "41d73b93",
   "metadata": {},
   "outputs": [
    {
     "data": {
      "text/plain": [
       "'  hello world   '"
      ]
     },
     "execution_count": 165,
     "metadata": {},
     "output_type": "execute_result"
    }
   ],
   "source": [
    "my_string = \"  hello world   \" \n",
    "new_string = my_string.strip()\n",
    "my_string "
   ]
  },
  {
   "cell_type": "code",
   "execution_count": 166,
   "id": "13f2e20f",
   "metadata": {},
   "outputs": [
    {
     "data": {
      "text/plain": [
       "'hello world'"
      ]
     },
     "execution_count": 166,
     "metadata": {},
     "output_type": "execute_result"
    }
   ],
   "source": [
    "new_string"
   ]
  },
  {
   "cell_type": "code",
   "execution_count": 179,
   "id": "f3470ab2",
   "metadata": {},
   "outputs": [
    {
     "data": {
      "text/plain": [
       "['John', 'Davis']"
      ]
     },
     "execution_count": 179,
     "metadata": {},
     "output_type": "execute_result"
    }
   ],
   "source": [
    "my_string = \"John Davis\" \n",
    "first_lastname = my_string.split(\" \")\n",
    "first_lastname "
   ]
  },
  {
   "cell_type": "code",
   "execution_count": 178,
   "id": "af9ab325",
   "metadata": {},
   "outputs": [
    {
     "data": {
      "text/plain": [
       "'John Davis'"
      ]
     },
     "execution_count": 178,
     "metadata": {},
     "output_type": "execute_result"
    }
   ],
   "source": [
    "\" \".join(first_lastname) "
   ]
  },
  {
   "cell_type": "code",
   "execution_count": 181,
   "id": "1db18976",
   "metadata": {},
   "outputs": [
    {
     "data": {
      "text/plain": [
       "['John', 'Davis']"
      ]
     },
     "execution_count": 181,
     "metadata": {},
     "output_type": "execute_result"
    }
   ],
   "source": [
    "my_string = \"John-Davis\" \n",
    "first_lastname = my_string.split(\"-\")\n",
    "first_lastname "
   ]
  },
  {
   "cell_type": "code",
   "execution_count": 182,
   "id": "4a4237c9",
   "metadata": {},
   "outputs": [
    {
     "data": {
      "text/plain": [
       "'hello'"
      ]
     },
     "execution_count": 182,
     "metadata": {},
     "output_type": "execute_result"
    }
   ],
   "source": [
    "my_string = \"hello\"\n",
    "my_string"
   ]
  },
  {
   "cell_type": "code",
   "execution_count": 183,
   "id": "2dca2857",
   "metadata": {},
   "outputs": [
    {
     "data": {
      "text/plain": [
       "'HELLO'"
      ]
     },
     "execution_count": 183,
     "metadata": {},
     "output_type": "execute_result"
    }
   ],
   "source": [
    "my_string = my_string.upper()\n",
    "my_string"
   ]
  },
  {
   "cell_type": "code",
   "execution_count": 187,
   "id": "bd924707",
   "metadata": {},
   "outputs": [
    {
     "data": {
      "text/plain": [
       "False"
      ]
     },
     "execution_count": 187,
     "metadata": {},
     "output_type": "execute_result"
    }
   ],
   "source": [
    "\"hello\".startswith(\"H\")"
   ]
  },
  {
   "cell_type": "code",
   "execution_count": 188,
   "id": "15b26bd2",
   "metadata": {},
   "outputs": [
    {
     "name": "stdout",
     "output_type": "stream",
     "text": [
      "True\n",
      "False\n",
      "True\n",
      "False\n",
      "True\n",
      "False\n"
     ]
    }
   ],
   "source": [
    "# Using in with a string\n",
    "my_string = \"hello\"\n",
    "print(\"h\" in my_string)   # Output: True\n",
    "print(\"z\" in my_string)   # Output: False\n",
    "\n",
    "# Using in with a list\n",
    "my_list = [1, 2, 3, 4, 5]\n",
    "print(3 in my_list)       # Output: True\n",
    "print(6 in my_list)       # Output: False\n",
    "\n",
    "# Using in with a dictionary\n",
    "my_dict = {\"name\": \"Alice\", \"age\": 30, \"city\": \"New York\"}\n",
    "print(\"age\" in my_dict)   # Output: True\n",
    "print(\"gender\" in my_dict) # Output: False\n"
   ]
  },
  {
   "cell_type": "code",
   "execution_count": 207,
   "id": "09d16654",
   "metadata": {},
   "outputs": [
    {
     "name": "stdout",
     "output_type": "stream",
     "text": [
      "1\n",
      "3\n",
      "banana\n",
      "True\n"
     ]
    }
   ],
   "source": [
    "# Inex value starts with 0 \n",
    "#Index values for my_numbers = [0,1,2,3,4]\n",
    "my_numbers = [1, 2, 3, 4, 5]\n",
    "print(my_numbers[0])   # Output: 1\n",
    "print(my_numbers[2])   # Output: 3\n",
    "\n",
    "my_strings = [\"apple\", \"banana\", \"cherry\", \"date\"]\n",
    "print(my_strings[1])   # Output: \"banana\"\n",
    "\n",
    "my_booleans = [True, False, True]\n",
    "print(my_booleans[2])  # Output: True\n"
   ]
  },
  {
   "cell_type": "code",
   "execution_count": 209,
   "id": "5c0925ab",
   "metadata": {},
   "outputs": [
    {
     "data": {
      "text/plain": [
       "[1, 2, 3, 4, 5, 6, 6]"
      ]
     },
     "execution_count": 209,
     "metadata": {},
     "output_type": "execute_result"
    }
   ],
   "source": [
    "my_numbers.append(6)\n",
    "my_numbers"
   ]
  },
  {
   "cell_type": "code",
   "execution_count": 210,
   "id": "3b61e0df",
   "metadata": {},
   "outputs": [
    {
     "data": {
      "text/plain": [
       "[1, 2, 3, 4, 5, 6, 6, 6, 7, 8]"
      ]
     },
     "execution_count": 210,
     "metadata": {},
     "output_type": "execute_result"
    }
   ],
   "source": [
    "my_numbers.extend([6, 7, 8])\n",
    "my_numbers"
   ]
  },
  {
   "cell_type": "code",
   "execution_count": 211,
   "id": "048b9bbb",
   "metadata": {},
   "outputs": [
    {
     "data": {
      "text/plain": [
       "[1, 'apple', 2, 3, 4, 5, 6, 6, 6, 7, 8]"
      ]
     },
     "execution_count": 211,
     "metadata": {},
     "output_type": "execute_result"
    }
   ],
   "source": [
    "my_numbers.insert(1, \"apple\")\n",
    "my_numbers"
   ]
  },
  {
   "cell_type": "code",
   "execution_count": 212,
   "id": "8da6dd5a",
   "metadata": {},
   "outputs": [
    {
     "data": {
      "text/plain": [
       "[1, 2, 3, 4, 5, 6, 6, 6, 7, 8]"
      ]
     },
     "execution_count": 212,
     "metadata": {},
     "output_type": "execute_result"
    }
   ],
   "source": [
    "my_numbers.remove(\"apple\")\n",
    "my_numbers"
   ]
  },
  {
   "cell_type": "code",
   "execution_count": 213,
   "id": "661e0d28",
   "metadata": {},
   "outputs": [
    {
     "name": "stdout",
     "output_type": "stream",
     "text": [
      "True\n",
      "False\n",
      "True\n",
      "False\n"
     ]
    }
   ],
   "source": [
    "my_string = \"Hello, World!\"\n",
    "\n",
    "print(\"Hello\" in my_string)    # Output: True\n",
    "print(\"hello\" in my_string)    # Output: False\n",
    "print(\"World\" in my_string)    # Output: True\n",
    "print(\"world\" in my_string)    # Output: False\n"
   ]
  },
  {
   "cell_type": "code",
   "execution_count": 218,
   "id": "d140fd60",
   "metadata": {},
   "outputs": [
    {
     "name": "stdout",
     "output_type": "stream",
     "text": [
      "H\n",
      "e\n",
      "W\n",
      "!\n"
     ]
    },
    {
     "ename": "IndexError",
     "evalue": "string index out of range",
     "output_type": "error",
     "traceback": [
      "\u001b[0;31m---------------------------------------------------------------------------\u001b[0m",
      "\u001b[0;31mIndexError\u001b[0m                                Traceback (most recent call last)",
      "Cell \u001b[0;32mIn[218], line 7\u001b[0m\n\u001b[1;32m      5\u001b[0m \u001b[38;5;28mprint\u001b[39m(my_string[\u001b[38;5;241m7\u001b[39m])    \u001b[38;5;66;03m# Output: \"W\"\u001b[39;00m\n\u001b[1;32m      6\u001b[0m \u001b[38;5;28mprint\u001b[39m(my_string[\u001b[38;5;241m12\u001b[39m])   \u001b[38;5;66;03m# Output: \"d\"\u001b[39;00m\n\u001b[0;32m----> 7\u001b[0m \u001b[38;5;28mprint\u001b[39m(my_string[\u001b[38;5;241m13\u001b[39m])\n",
      "\u001b[0;31mIndexError\u001b[0m: string index out of range"
     ]
    }
   ],
   "source": [
    "my_string = \"Hello, World!\"\n",
    "\n",
    "print(my_string[0])    # Output: \"H\"\n",
    "print(my_string[1])    # Output: \"e\"\n",
    "print(my_string[7])    # Output: \"W\"\n",
    "print(my_string[12])   # Output: \"d\"\n",
    "print(my_string[13])  "
   ]
  },
  {
   "cell_type": "code",
   "execution_count": 220,
   "id": "68c0582b",
   "metadata": {},
   "outputs": [
    {
     "name": "stdout",
     "output_type": "stream",
     "text": [
      "Hello\n",
      "World\n",
      "orl\n"
     ]
    }
   ],
   "source": [
    "my_string = \"Hello, World!\"\n",
    "\n",
    "print(my_string[0:5])   # Output: \"Hello\" #first value is inclusive, last value is not (0:4 inclusive)\n",
    "print(my_string[7:12])  # Output: \"World\"\n",
    "print(my_string[8:11]) "
   ]
  },
  {
   "cell_type": "code",
   "execution_count": 221,
   "id": "67175861",
   "metadata": {},
   "outputs": [
    {
     "name": "stdout",
     "output_type": "stream",
     "text": [
      "Hello, World!\n",
      "ello, World!\n",
      "Hel\n",
      "[1, 2, 3, 4, 5]\n",
      "[3, 4, 5]\n",
      "[1, 2, 3]\n"
     ]
    }
   ],
   "source": [
    "my_string = \"Hello, World!\"\n",
    "my_list = [1, 2, 3, 4, 5]\n",
    "\n",
    "print(my_string[:])     # Output: \"Hello, World!\"\n",
    "print(my_string[1:])    # Output: \"ello, World!\"\n",
    "print(my_string[:3])    # Output: \"Hel\"\n",
    "print(my_list[:])       # Output: [1, 2, 3, 4, 5]\n",
    "print(my_list[2:])      # Output: [3, 4, 5]\n",
    "print(my_list[:3])      # Output: [1, 2, 3]\n"
   ]
  },
  {
   "cell_type": "code",
   "execution_count": 223,
   "id": "9584fed1",
   "metadata": {},
   "outputs": [
    {
     "name": "stdout",
     "output_type": "stream",
     "text": [
      "[1, 2, 3, 4, 5]\n"
     ]
    }
   ],
   "source": [
    "my_list = [1, 2, 3, 4, 5]\n",
    "slice_result = my_list[0:1000000]\n",
    "\n",
    "print(slice_result)    # Output: [1, 2, 3, 4, 5]\n"
   ]
  },
  {
   "cell_type": "code",
   "execution_count": 229,
   "id": "0a3bd9c2",
   "metadata": {},
   "outputs": [
    {
     "data": {
      "text/plain": [
       "{'pizza': 10.99,\n",
       " 'pasta': 8.99,\n",
       " 'lasagna': 12.99,\n",
       " 'caprese salad': 6.99,\n",
       " 'tiramisu': 4.99,\n",
       " 'Pizaa chees': 100.0}"
      ]
     },
     "execution_count": 229,
     "metadata": {},
     "output_type": "execute_result"
    }
   ],
   "source": [
    "menu = {\n",
    "    \"pizza\": 10.99,\n",
    "    \"pasta\": 8.99,\n",
    "    \"lasagna\": 12.99,\n",
    "    \"caprese salad\": 6.99,\n",
    "    \"tiramisu\": 4.99,\n",
    "    \"Pizaa chees\": 100.0\n",
    "}\n",
    "menu"
   ]
  },
  {
   "cell_type": "code",
   "execution_count": 230,
   "id": "61599233",
   "metadata": {},
   "outputs": [
    {
     "name": "stdout",
     "output_type": "stream",
     "text": [
      "10.99\n",
      "4.99\n"
     ]
    }
   ],
   "source": [
    "print(menu[\"pizza\"])    # Output: 10.99\n",
    "print(menu[\"tiramisu\"]) # Output: 4.99\n"
   ]
  },
  {
   "cell_type": "code",
   "execution_count": 231,
   "id": "fb12fdab",
   "metadata": {},
   "outputs": [
    {
     "data": {
      "text/plain": [
       "6"
      ]
     },
     "execution_count": 231,
     "metadata": {},
     "output_type": "execute_result"
    }
   ],
   "source": [
    "len(menu)"
   ]
  },
  {
   "cell_type": "code",
   "execution_count": 233,
   "id": "bce59045",
   "metadata": {},
   "outputs": [
    {
     "name": "stdout",
     "output_type": "stream",
     "text": [
      "True\n",
      "False\n",
      "True\n",
      "False\n"
     ]
    }
   ],
   "source": [
    "menu = {\n",
    "    \"pizza\": 10.99,\n",
    "    \"pasta\": 8.99,\n",
    "    \"lasagna\": 12.99,\n",
    "    \"caprese salad\": 6.99,\n",
    "    \"tiramisu\": 4.99\n",
    "}\n",
    "\n",
    "print(\"pizza\" in menu)        # Output: True\n",
    "print(\"spaghetti\" in menu)    # Output: False\n",
    "print(\"salad\" not in menu)    # Output: True\n",
    "print(\"lasagna\" not in menu)  # Output: False\n"
   ]
  },
  {
   "cell_type": "code",
   "execution_count": 236,
   "id": "fb65c732",
   "metadata": {},
   "outputs": [
    {
     "data": {
      "text/plain": [
       "{'pizza': 10.99,\n",
       " 'pasta': 9.99,\n",
       " 'lasagna': 12.99,\n",
       " 'caprese salad': 6.99,\n",
       " 'tiramisu': 4.99}"
      ]
     },
     "execution_count": 236,
     "metadata": {},
     "output_type": "execute_result"
    }
   ],
   "source": [
    "menu[\"pasta\"] = 9.99    # Update the price of pasta to 9.99\n",
    "\n",
    "menu"
   ]
  },
  {
   "cell_type": "code",
   "execution_count": 237,
   "id": "9fd43dc6",
   "metadata": {},
   "outputs": [
    {
     "data": {
      "text/plain": [
       "{'pizza': 10.99,\n",
       " 'pasta': 9.99,\n",
       " 'lasagna': 12.99,\n",
       " 'caprese salad': 6.99,\n",
       " 'tiramisu': 4.99,\n",
       " 'Alfredo Pasta': 19.99}"
      ]
     },
     "execution_count": 237,
     "metadata": {},
     "output_type": "execute_result"
    }
   ],
   "source": [
    "menu[\"Alfredo Pasta\"] = 19.99    # Add a new item to the menu dictionary\n",
    "menu"
   ]
  },
  {
   "cell_type": "code",
   "execution_count": 240,
   "id": "7552c9d4",
   "metadata": {},
   "outputs": [
    {
     "name": "stdout",
     "output_type": "stream",
     "text": [
      "There is a dish priced at $19.99 on the menu.\n"
     ]
    }
   ],
   "source": [
    "if 19.99 in menu.values():\n",
    "    print(\"There is a dish priced at $19.99 on the menu.\")\n",
    "else:\n",
    "    print(\"There is no dish priced at $19.99 on the menu.\")"
   ]
  },
  {
   "cell_type": "code",
   "execution_count": 243,
   "id": "09a27037",
   "metadata": {},
   "outputs": [
    {
     "name": "stdout",
     "output_type": "stream",
     "text": [
      "x is less than or equal to 5\n"
     ]
    }
   ],
   "source": [
    "x = 4\n",
    "\n",
    "if x > 5:\n",
    "    print(\"x is greater than 5\")\n",
    "else:\n",
    "    print(\"x is less than or equal to 5\")\n"
   ]
  },
  {
   "cell_type": "code",
   "execution_count": 251,
   "id": "a6b304eb",
   "metadata": {},
   "outputs": [
    {
     "name": "stdout",
     "output_type": "stream",
     "text": [
      "The price of pasta is $8.99.\n"
     ]
    }
   ],
   "source": [
    "menu = {\n",
    "    \"pizza\": 10.99,\n",
    "    \"pasta\": 8.99,\n",
    "    \"lasagna\": 12.99,\n",
    "    \"caprese salad\": 8.99,\n",
    "    \"tiramisu\": 4.99\n",
    "}\n",
    "\n",
    "for item, price in menu.items():\n",
    "    if price == 8.99:\n",
    "        print(f\"The price of {item} is $8.99.\")\n",
    "        break\n"
   ]
  },
  {
   "cell_type": "code",
   "execution_count": 252,
   "id": "13bc3499",
   "metadata": {},
   "outputs": [
    {
     "name": "stdout",
     "output_type": "stream",
     "text": [
      "The price of pasta is $8.99.\n",
      "The price of caprese salad is $8.99.\n"
     ]
    }
   ],
   "source": [
    "for item, price in menu.items():\n",
    "    if price == 8.99:\n",
    "        print(f\"The price of {item} is $8.99.\")"
   ]
  },
  {
   "cell_type": "code",
   "execution_count": 253,
   "id": "95ca5ac9",
   "metadata": {},
   "outputs": [
    {
     "name": "stdout",
     "output_type": "stream",
     "text": [
      "The price of pasta is $8.99.\n",
      "The price of spaghetti is $8.99.\n"
     ]
    }
   ],
   "source": [
    "menu = {\n",
    "    \"pizza\": 10.99,\n",
    "    \"pasta\": 8.99,\n",
    "    \"lasagna\": 12.99,\n",
    "    \"caprese salad\": 6.99,\n",
    "    \"tiramisu\": 4.99,\n",
    "    \"spaghetti\": 8.99\n",
    "}\n",
    "\n",
    "for item, price in menu.items():\n",
    "    if price == 8.99:\n",
    "        print(f\"The price of {item} is $8.99.\")\n"
   ]
  },
  {
   "cell_type": "code",
   "execution_count": null,
   "id": "6b921037",
   "metadata": {},
   "outputs": [],
   "source": []
  }
 ],
 "metadata": {
  "kernelspec": {
   "display_name": "Python 3 (ipykernel)",
   "language": "python",
   "name": "python3"
  },
  "language_info": {
   "codemirror_mode": {
    "name": "ipython",
    "version": 3
   },
   "file_extension": ".py",
   "mimetype": "text/x-python",
   "name": "python",
   "nbconvert_exporter": "python",
   "pygments_lexer": "ipython3",
   "version": "3.11.2"
  }
 },
 "nbformat": 4,
 "nbformat_minor": 5
}
