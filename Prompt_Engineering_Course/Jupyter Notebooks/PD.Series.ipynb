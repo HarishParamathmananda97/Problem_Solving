{
 "cells": [
  {
   "cell_type": "code",
   "execution_count": 3,
   "id": "2f3cefd0",
   "metadata": {},
   "outputs": [
    {
     "data": {
      "text/plain": [
       "['Vanilla', 'Chocolate', 'Strawberry', 'Mint Chocolate Chip', 'Butter Pecan']"
      ]
     },
     "execution_count": 3,
     "metadata": {},
     "output_type": "execute_result"
    }
   ],
   "source": [
    "import pandas as pd\n",
    "\n",
    "# create a list of ice cream flavors\n",
    "ice_cream_flavors = ['Vanilla', 'Chocolate', 'Strawberry', 'Mint Chocolate Chip', 'Butter Pecan']\n",
    "\n",
    "ice_cream_flavors\n",
    "\n"
   ]
  },
  {
   "cell_type": "code",
   "execution_count": 4,
   "id": "5fc97274",
   "metadata": {},
   "outputs": [
    {
     "name": "stdout",
     "output_type": "stream",
     "text": [
      "0                Vanilla\n",
      "1              Chocolate\n",
      "2             Strawberry\n",
      "3    Mint Chocolate Chip\n",
      "4           Butter Pecan\n",
      "dtype: object\n"
     ]
    }
   ],
   "source": [
    "# convert the list to a Pandas Series\n",
    "ice_cream_series = pd.Series(ice_cream_flavors)\n",
    "\n",
    "# print the series\n",
    "print(ice_cream_series)"
   ]
  },
  {
   "cell_type": "code",
   "execution_count": 5,
   "id": "89d45500",
   "metadata": {},
   "outputs": [
    {
     "name": "stdout",
     "output_type": "stream",
     "text": [
      "0     5\n",
      "1    10\n",
      "2    15\n",
      "3    20\n",
      "4    25\n",
      "5    30\n",
      "dtype: int64\n"
     ]
    }
   ],
   "source": [
    "import pandas as pd\n",
    "\n",
    "# create a list of numbers\n",
    "numbers = [5, 10, 15, 20, 25, 30]\n",
    "\n",
    "# convert the list to a Pandas Series\n",
    "numbers_series = pd.Series(numbers)\n",
    "\n",
    "# print the series\n",
    "print(numbers_series)\n"
   ]
  },
  {
   "cell_type": "code",
   "execution_count": 27,
   "id": "ea9a3f96",
   "metadata": {},
   "outputs": [
    {
     "name": "stdout",
     "output_type": "stream",
     "text": [
      "Spaghetti           12.99\n",
      "Margherita Pizza    14.99\n",
      "Lasagna             16.99\n",
      "Tiramisu             8.99\n",
      "Bruschetta           6.99\n",
      "dtype: float64\n"
     ]
    }
   ],
   "source": [
    "import pandas as pd\n",
    "\n",
    "# create a dictionary of Italian menu items and prices\n",
    "menu = {'Spaghetti': 12.99, 'Margherita Pizza': 14.99, 'Lasagna': 16.99, 'Tiramisu': 8.99, 'Bruschetta': 6.99}\n",
    "\n",
    "# convert the dictionary to a Pandas Series\n",
    "menu_series = pd.Series(menu)\n",
    "\n",
    "# print the series\n",
    "print(menu_series)\n"
   ]
  },
  {
   "cell_type": "code",
   "execution_count": 12,
   "id": "aca467d0",
   "metadata": {},
   "outputs": [
    {
     "data": {
      "text/plain": [
       "12.99    1\n",
       "14.99    1\n",
       "16.99    1\n",
       "8.99     1\n",
       "6.99     1\n",
       "dtype: int64"
      ]
     },
     "execution_count": 12,
     "metadata": {},
     "output_type": "execute_result"
    }
   ],
   "source": [
    "menu_series.value_counts()"
   ]
  },
  {
   "cell_type": "code",
   "execution_count": 13,
   "id": "6deac9d1",
   "metadata": {},
   "outputs": [
    {
     "name": "stdout",
     "output_type": "stream",
     "text": [
      "12.99    2\n",
      "14.99    1\n",
      "8.99     1\n",
      "6.99     1\n",
      "dtype: int64\n"
     ]
    }
   ],
   "source": [
    "import pandas as pd\n",
    "\n",
    "# create a dictionary of Italian menu items and prices\n",
    "menu = {'Spaghetti': 12.99, 'Margherita Pizza': 14.99, 'Lasagna': 12.99, 'Tiramisu': 8.99, 'Bruschetta': 6.99}\n",
    "\n",
    "# convert the dictionary to a Pandas Series\n",
    "menu_series_new = pd.Series(menu)\n",
    "\n",
    "# print the series\n",
    "print(menu_series_new.value_counts())\n"
   ]
  },
  {
   "cell_type": "code",
   "execution_count": 14,
   "id": "59326fc7",
   "metadata": {},
   "outputs": [
    {
     "data": {
      "text/plain": [
       "array([12.99, 14.99,  8.99,  6.99])"
      ]
     },
     "execution_count": 14,
     "metadata": {},
     "output_type": "execute_result"
    }
   ],
   "source": [
    "menu_series_new.unique()"
   ]
  },
  {
   "cell_type": "code",
   "execution_count": 15,
   "id": "b3d9dea9",
   "metadata": {},
   "outputs": [
    {
     "data": {
      "text/plain": [
       "4"
      ]
     },
     "execution_count": 15,
     "metadata": {},
     "output_type": "execute_result"
    }
   ],
   "source": [
    "menu_series_new.nunique()"
   ]
  },
  {
   "cell_type": "code",
   "execution_count": 16,
   "id": "1a43e952",
   "metadata": {},
   "outputs": [
    {
     "data": {
      "text/plain": [
       "Bruschetta           6.99\n",
       "Tiramisu             8.99\n",
       "Spaghetti           12.99\n",
       "Lasagna             12.99\n",
       "Margherita Pizza    14.99\n",
       "dtype: float64"
      ]
     },
     "execution_count": 16,
     "metadata": {},
     "output_type": "execute_result"
    }
   ],
   "source": [
    "menu_series_new.sort_values()"
   ]
  },
  {
   "cell_type": "code",
   "execution_count": 18,
   "id": "b0295d0a",
   "metadata": {},
   "outputs": [
    {
     "data": {
      "text/plain": [
       "'Margherita Pizza'"
      ]
     },
     "execution_count": 18,
     "metadata": {},
     "output_type": "execute_result"
    }
   ],
   "source": [
    "menu_series_new.idxmax()"
   ]
  },
  {
   "cell_type": "code",
   "execution_count": 25,
   "id": "1a9f7681",
   "metadata": {},
   "outputs": [
    {
     "data": {
      "text/plain": [
       "False"
      ]
     },
     "execution_count": 25,
     "metadata": {},
     "output_type": "execute_result"
    }
   ],
   "source": [
    "menu_series_new.empty"
   ]
  },
  {
   "cell_type": "code",
   "execution_count": 29,
   "id": "aa77a572",
   "metadata": {},
   "outputs": [
    {
     "data": {
      "text/plain": [
       "apple     2.99\n",
       "banana    3.99\n",
       "orange    1.99\n",
       "Name: prices, dtype: float64"
      ]
     },
     "execution_count": 29,
     "metadata": {},
     "output_type": "execute_result"
    }
   ],
   "source": [
    "import pandas as pd\n",
    "\n",
    "prices = [2.99, 3.99, 1.99]\n",
    "items = ['apple', 'banana', 'orange']\n",
    "\n",
    "prices_series = pd.Series(data=prices, index=items, name='prices')\n",
    "prices_series"
   ]
  },
  {
   "cell_type": "code",
   "execution_count": 36,
   "id": "3fe35eb2",
   "metadata": {},
   "outputs": [
    {
     "data": {
      "text/plain": [
       "0    1\n",
       "1    2\n",
       "2    3\n",
       "3    4\n",
       "4    5\n",
       "dtype: int16"
      ]
     },
     "execution_count": 36,
     "metadata": {},
     "output_type": "execute_result"
    }
   ],
   "source": [
    "import pandas as pd\n",
    "import numpy as np\n",
    "\n",
    "# create a Series of integers with a specified data type\n",
    "numbers = [1, 2, 3, 4, 5]\n",
    "numbers_series = pd.Series(numbers, dtype=np.int16)\n",
    "numbers_series\n"
   ]
  },
  {
   "cell_type": "code",
   "execution_count": 33,
   "id": "16ed67ec",
   "metadata": {},
   "outputs": [
    {
     "data": {
      "text/plain": [
       "0     apple\n",
       "1    banana\n",
       "2    orange\n",
       "dtype: object"
      ]
     },
     "execution_count": 33,
     "metadata": {},
     "output_type": "execute_result"
    }
   ],
   "source": [
    "# create a Series of strings with a specified data type\n",
    "fruits = ['apple', 'banana', 'orange']\n",
    "fruits_series = pd.Series(fruits)\n",
    "fruits_series"
   ]
  },
  {
   "cell_type": "markdown",
   "id": "f32652ba",
   "metadata": {},
   "source": [
    "### Instrcutor Data frame\n",
    "\n",
    "    title\tname"
   ]
  },
  {
   "cell_type": "code",
   "execution_count": 76,
   "id": "14354dba",
   "metadata": {},
   "outputs": [
    {
     "name": "stderr",
     "output_type": "stream",
     "text": [
      "/var/folders/8m/zcj0ybf12qn84mg0nnpb_psw0000gn/T/ipykernel_87089/3024667364.py:2: FutureWarning: The squeeze argument has been deprecated and will be removed in a future version. Append .squeeze(\"columns\") to the call to squeeze.\n",
      "\n",
      "\n",
      "  df = pd.read_csv('instructors.csv', header=0, index_col='title', usecols=['title', 'job_title'], squeeze=True)\n"
     ]
    },
    {
     "data": {
      "text/plain": [
       "title\n",
       "夢YASU 音楽大学校                                                                      ピアノ・ギター\n",
       "Оксана Ференчук                        Музыкант, педагог и основатель онлайн-школы го...\n",
       "Enrique Pastor -Guitarra con garra-                Titulado superior de guitarra clásica\n",
       "Ali Atkaya                                                            Ukulele Repertuvar\n",
       "Avishai mor                                                   מוסיקאי יוצר ומורה למוסיקה\n",
       "Marc-Nesly Delmot                                                      singer songwriter\n",
       "Gabriel Budemberg                                          Instrutor de Produção Musical\n",
       "Rafael Dos Santos Buffon                                                        Pedagogo\n",
       "Adrin Wendt                                   Pianist/ Online- und Offline-Klavierlehrer\n",
       "Viktor Kaminskiy                       Music Composition, Music Producing, Orchestration\n",
       "Name: job_title, dtype: object"
      ]
     },
     "execution_count": 76,
     "metadata": {},
     "output_type": "execute_result"
    }
   ],
   "source": [
    "\n",
    "\n",
    "# Read the CSV file into a DataFrame\n",
    "df = pd.read_csv('instructors.csv', header=0, index_col='title', usecols=['title', 'job_title'], squeeze=True)\n",
    "\n",
    "df.tail(10)\n"
   ]
  },
  {
   "cell_type": "code",
   "execution_count": 77,
   "id": "7e986740",
   "metadata": {},
   "outputs": [
    {
     "data": {
      "text/plain": [
       "32233"
      ]
     },
     "execution_count": 77,
     "metadata": {},
     "output_type": "execute_result"
    }
   ],
   "source": [
    "len(df)"
   ]
  },
  {
   "cell_type": "code",
   "execution_count": 78,
   "id": "92591d4a",
   "metadata": {},
   "outputs": [
    {
     "data": {
      "text/plain": [
       "title\n",
       "Jose Portilla                        Head of Data Science at Pierian Training\n",
       "Dr. Angela Yu                                   Developer and Lead Instructor\n",
       "Colt Steele                                 Developer and Bootcamp Instructor\n",
       "Maximilian Schwarzmüller    AWS certified, Professional Web Developer and ...\n",
       "Tim Buchalka                Java Python Android and C# Expert Developer - ...\n",
       "Name: job_title, dtype: object"
      ]
     },
     "execution_count": 78,
     "metadata": {},
     "output_type": "execute_result"
    }
   ],
   "source": [
    "df.head(5)"
   ]
  },
  {
   "cell_type": "code",
   "execution_count": 79,
   "id": "9f60fc15",
   "metadata": {},
   "outputs": [
    {
     "data": {
      "text/plain": [
       "title\n",
       "Marc-Nesly Delmot                                           singer songwriter\n",
       "Gabriel Budemberg                               Instrutor de Produção Musical\n",
       "Rafael Dos Santos Buffon                                             Pedagogo\n",
       "Adrin Wendt                        Pianist/ Online- und Offline-Klavierlehrer\n",
       "Viktor Kaminskiy            Music Composition, Music Producing, Orchestration\n",
       "Name: job_title, dtype: object"
      ]
     },
     "execution_count": 79,
     "metadata": {},
     "output_type": "execute_result"
    }
   ],
   "source": [
    "df.tail(5)"
   ]
  },
  {
   "cell_type": "code",
   "execution_count": 80,
   "id": "0267c0a4",
   "metadata": {},
   "outputs": [
    {
     "data": {
      "text/plain": [
       "Instructor                                           265\n",
       "Software Engineer                                    144\n",
       "Professor                                             76\n",
       "Engineer                                              75\n",
       "Software Developer                                    57\n",
       "                                                    ... \n",
       "Cursos Criptomoedas                                    1\n",
       "Empresária Contábil                                    1\n",
       "Professioneel belegger                                 1\n",
       "Business & Innovation Enthusiast                       1\n",
       "Music Composition, Music Producing, Orchestration      1\n",
       "Name: job_title, Length: 27920, dtype: int64"
      ]
     },
     "execution_count": 80,
     "metadata": {},
     "output_type": "execute_result"
    }
   ],
   "source": [
    "df.value_counts()"
   ]
  },
  {
   "cell_type": "code",
   "execution_count": 81,
   "id": "cb929091",
   "metadata": {},
   "outputs": [
    {
     "data": {
      "text/plain": [
       "count          32155\n",
       "unique         27920\n",
       "top       Instructor\n",
       "freq             265\n",
       "Name: job_title, dtype: object"
      ]
     },
     "execution_count": 81,
     "metadata": {},
     "output_type": "execute_result"
    }
   ],
   "source": [
    "df.describe()"
   ]
  },
  {
   "cell_type": "code",
   "execution_count": 82,
   "id": "a44033cb",
   "metadata": {},
   "outputs": [
    {
     "data": {
      "text/plain": [
       "title\n",
       "Healthcare Career Development Academy                                                     \n",
       "Andre Farnell                             Award-Winning Fitness Expert, Entrepreneur, A...\n",
       "Grzegorz Wisniewski                                Coach, Trainer, Manager, Executive MBA,\n",
       "Greg Haitz                                      Health Expert and Coach, Lead Capture Guru\n",
       "Dalton Grant Jr                           Story board artist and Producer at Red Giant ...\n",
       "                                                               ...                        \n",
       "Gustavo G                                                                              NaN\n",
       "Gemma Louise Marinus                                                                   NaN\n",
       "StrumSchool Shapiro                                                                    NaN\n",
       "Luis Portal                                                                            NaN\n",
       "Rafael Santiago Araujo de Lima                                                         NaN\n",
       "Name: job_title, Length: 32233, dtype: object"
      ]
     },
     "execution_count": 82,
     "metadata": {},
     "output_type": "execute_result"
    }
   ],
   "source": [
    "df.sort_values(ascending=True)"
   ]
  },
  {
   "cell_type": "code",
   "execution_count": 83,
   "id": "ddad3fc7",
   "metadata": {},
   "outputs": [
    {
     "data": {
      "text/plain": [
       "'Developer and Bootcamp Instructor'"
      ]
     },
     "execution_count": 83,
     "metadata": {},
     "output_type": "execute_result"
    }
   ],
   "source": [
    "df.loc['Colt Steele']"
   ]
  },
  {
   "cell_type": "code",
   "execution_count": 84,
   "id": "265c1ebc",
   "metadata": {},
   "outputs": [
    {
     "data": {
      "text/plain": [
       "'Developer and Bootcamp Instructor'"
      ]
     },
     "execution_count": 84,
     "metadata": {},
     "output_type": "execute_result"
    }
   ],
   "source": [
    "df.iloc[2]"
   ]
  },
  {
   "cell_type": "code",
   "execution_count": 85,
   "id": "2b89efbe",
   "metadata": {},
   "outputs": [],
   "source": [
    "df.loc['Colt Steele'] = 'Udemy Instructor'\n"
   ]
  },
  {
   "cell_type": "code",
   "execution_count": 86,
   "id": "38484e4f",
   "metadata": {},
   "outputs": [
    {
     "data": {
      "text/plain": [
       "'Udemy Instructor'"
      ]
     },
     "execution_count": 86,
     "metadata": {},
     "output_type": "execute_result"
    }
   ],
   "source": [
    "df.loc['Colt Steele']"
   ]
  },
  {
   "cell_type": "code",
   "execution_count": 87,
   "id": "585432a7",
   "metadata": {},
   "outputs": [
    {
     "name": "stdout",
     "output_type": "stream",
     "text": [
      "Index(['Colt Steele', 'Sana Maqsood', 'Alina M', 'Ross Zeiger'], dtype='object', name='title')\n"
     ]
    }
   ],
   "source": [
    "index_label = df[df == 'Udemy Instructor'].index\n",
    "print(index_label)\n"
   ]
  },
  {
   "cell_type": "code",
   "execution_count": 88,
   "id": "ffa835a3",
   "metadata": {},
   "outputs": [
    {
     "name": "stdout",
     "output_type": "stream",
     "text": [
      "Udemy Instructor\n"
     ]
    }
   ],
   "source": [
    "value = df.get('Colt Steele')\n",
    "print(value)"
   ]
  },
  {
   "cell_type": "code",
   "execution_count": 89,
   "id": "faabe0f9",
   "metadata": {},
   "outputs": [
    {
     "ename": "TypeError",
     "evalue": "unsupported operand type(s) for +: 'float' and 'str'",
     "output_type": "error",
     "traceback": [
      "\u001b[0;31m---------------------------------------------------------------------------\u001b[0m",
      "\u001b[0;31mTypeError\u001b[0m                                 Traceback (most recent call last)",
      "Cell \u001b[0;32mIn[89], line 4\u001b[0m\n\u001b[1;32m      1\u001b[0m \u001b[38;5;28;01mdef\u001b[39;00m \u001b[38;5;21madd_udemy_instructor\u001b[39m(text):\n\u001b[1;32m      2\u001b[0m     \u001b[38;5;28;01mreturn\u001b[39;00m text \u001b[38;5;241m+\u001b[39m \u001b[38;5;124m\"\u001b[39m\u001b[38;5;124m Udemy Instructor\u001b[39m\u001b[38;5;124m\"\u001b[39m\n\u001b[0;32m----> 4\u001b[0m df \u001b[38;5;241m=\u001b[39m df\u001b[38;5;241m.\u001b[39mapply(add_udemy_instructor)\n\u001b[1;32m      6\u001b[0m df\u001b[38;5;241m.\u001b[39mhead()\n",
      "File \u001b[0;32m/Users/anaconda3/envs/python_data_analysis/lib/python3.11/site-packages/pandas/core/series.py:4771\u001b[0m, in \u001b[0;36mSeries.apply\u001b[0;34m(self, func, convert_dtype, args, **kwargs)\u001b[0m\n\u001b[1;32m   4661\u001b[0m \u001b[38;5;28;01mdef\u001b[39;00m \u001b[38;5;21mapply\u001b[39m(\n\u001b[1;32m   4662\u001b[0m     \u001b[38;5;28mself\u001b[39m,\n\u001b[1;32m   4663\u001b[0m     func: AggFuncType,\n\u001b[0;32m   (...)\u001b[0m\n\u001b[1;32m   4666\u001b[0m     \u001b[38;5;241m*\u001b[39m\u001b[38;5;241m*\u001b[39mkwargs,\n\u001b[1;32m   4667\u001b[0m ) \u001b[38;5;241m-\u001b[39m\u001b[38;5;241m>\u001b[39m DataFrame \u001b[38;5;241m|\u001b[39m Series:\n\u001b[1;32m   4668\u001b[0m     \u001b[38;5;124;03m\"\"\"\u001b[39;00m\n\u001b[1;32m   4669\u001b[0m \u001b[38;5;124;03m    Invoke function on values of Series.\u001b[39;00m\n\u001b[1;32m   4670\u001b[0m \n\u001b[0;32m   (...)\u001b[0m\n\u001b[1;32m   4769\u001b[0m \u001b[38;5;124;03m    dtype: float64\u001b[39;00m\n\u001b[1;32m   4770\u001b[0m \u001b[38;5;124;03m    \"\"\"\u001b[39;00m\n\u001b[0;32m-> 4771\u001b[0m     \u001b[38;5;28;01mreturn\u001b[39;00m SeriesApply(\u001b[38;5;28mself\u001b[39m, func, convert_dtype, args, kwargs)\u001b[38;5;241m.\u001b[39mapply()\n",
      "File \u001b[0;32m/Users/anaconda3/envs/python_data_analysis/lib/python3.11/site-packages/pandas/core/apply.py:1123\u001b[0m, in \u001b[0;36mSeriesApply.apply\u001b[0;34m(self)\u001b[0m\n\u001b[1;32m   1120\u001b[0m     \u001b[38;5;28;01mreturn\u001b[39;00m \u001b[38;5;28mself\u001b[39m\u001b[38;5;241m.\u001b[39mapply_str()\n\u001b[1;32m   1122\u001b[0m \u001b[38;5;66;03m# self.f is Callable\u001b[39;00m\n\u001b[0;32m-> 1123\u001b[0m \u001b[38;5;28;01mreturn\u001b[39;00m \u001b[38;5;28mself\u001b[39m\u001b[38;5;241m.\u001b[39mapply_standard()\n",
      "File \u001b[0;32m/Users/anaconda3/envs/python_data_analysis/lib/python3.11/site-packages/pandas/core/apply.py:1174\u001b[0m, in \u001b[0;36mSeriesApply.apply_standard\u001b[0;34m(self)\u001b[0m\n\u001b[1;32m   1172\u001b[0m     \u001b[38;5;28;01melse\u001b[39;00m:\n\u001b[1;32m   1173\u001b[0m         values \u001b[38;5;241m=\u001b[39m obj\u001b[38;5;241m.\u001b[39mastype(\u001b[38;5;28mobject\u001b[39m)\u001b[38;5;241m.\u001b[39m_values\n\u001b[0;32m-> 1174\u001b[0m         mapped \u001b[38;5;241m=\u001b[39m lib\u001b[38;5;241m.\u001b[39mmap_infer(\n\u001b[1;32m   1175\u001b[0m             values,\n\u001b[1;32m   1176\u001b[0m             f,\n\u001b[1;32m   1177\u001b[0m             convert\u001b[38;5;241m=\u001b[39m\u001b[38;5;28mself\u001b[39m\u001b[38;5;241m.\u001b[39mconvert_dtype,\n\u001b[1;32m   1178\u001b[0m         )\n\u001b[1;32m   1180\u001b[0m \u001b[38;5;28;01mif\u001b[39;00m \u001b[38;5;28mlen\u001b[39m(mapped) \u001b[38;5;129;01mand\u001b[39;00m \u001b[38;5;28misinstance\u001b[39m(mapped[\u001b[38;5;241m0\u001b[39m], ABCSeries):\n\u001b[1;32m   1181\u001b[0m     \u001b[38;5;66;03m# GH#43986 Need to do list(mapped) in order to get treated as nested\u001b[39;00m\n\u001b[1;32m   1182\u001b[0m     \u001b[38;5;66;03m#  See also GH#25959 regarding EA support\u001b[39;00m\n\u001b[1;32m   1183\u001b[0m     \u001b[38;5;28;01mreturn\u001b[39;00m obj\u001b[38;5;241m.\u001b[39m_constructor_expanddim(\u001b[38;5;28mlist\u001b[39m(mapped), index\u001b[38;5;241m=\u001b[39mobj\u001b[38;5;241m.\u001b[39mindex)\n",
      "File \u001b[0;32m/Users/anaconda3/envs/python_data_analysis/lib/python3.11/site-packages/pandas/_libs/lib.pyx:2924\u001b[0m, in \u001b[0;36mpandas._libs.lib.map_infer\u001b[0;34m()\u001b[0m\n",
      "Cell \u001b[0;32mIn[89], line 2\u001b[0m, in \u001b[0;36madd_udemy_instructor\u001b[0;34m(text)\u001b[0m\n\u001b[1;32m      1\u001b[0m \u001b[38;5;28;01mdef\u001b[39;00m \u001b[38;5;21madd_udemy_instructor\u001b[39m(text):\n\u001b[0;32m----> 2\u001b[0m     \u001b[38;5;28;01mreturn\u001b[39;00m text \u001b[38;5;241m+\u001b[39m \u001b[38;5;124m\"\u001b[39m\u001b[38;5;124m Udemy Instructor\u001b[39m\u001b[38;5;124m\"\u001b[39m\n",
      "\u001b[0;31mTypeError\u001b[0m: unsupported operand type(s) for +: 'float' and 'str'"
     ]
    }
   ],
   "source": [
    "def add_udemy_instructor(text):\n",
    "    return text + \" Udemy Instructor\"\n",
    "\n",
    "df = df.apply(add_udemy_instructor)\n",
    "\n",
    "df.head()\n"
   ]
  },
  {
   "cell_type": "code",
   "execution_count": 91,
   "id": "70fa90bb",
   "metadata": {},
   "outputs": [
    {
     "data": {
      "text/plain": [
       "title\n",
       "夢YASU 音楽大学校                                    ピアノ・ギター Udemy Instructor Udemy Instructor\n",
       "Оксана Ференчук                        Музыкант, педагог и основатель онлайн-школы го...\n",
       "Enrique Pastor -Guitarra con garra-    Titulado superior de guitarra clásica Udemy In...\n",
       "Ali Atkaya                             Ukulele Repertuvar Udemy Instructor Udemy Inst...\n",
       "Avishai mor                            מוסיקאי יוצר ומורה למוסיקה Udemy Instructor Ud...\n",
       "Marc-Nesly Delmot                      singer songwriter Udemy Instructor Udemy Instr...\n",
       "Gabriel Budemberg                      Instrutor de Produção Musical Udemy Instructor...\n",
       "Rafael Dos Santos Buffon                      Pedagogo Udemy Instructor Udemy Instructor\n",
       "Adrin Wendt                            Pianist/ Online- und Offline-Klavierlehrer Ude...\n",
       "Viktor Kaminskiy                       Music Composition, Music Producing, Orchestrat...\n",
       "Name: job_title, dtype: object"
      ]
     },
     "execution_count": 91,
     "metadata": {},
     "output_type": "execute_result"
    }
   ],
   "source": [
    "def add_udemy_instructor(text):\n",
    "    return str(text) + \" Udemy Instructor\"\n",
    "\n",
    "df = df.apply(add_udemy_instructor)\n",
    "\n",
    "df.tail(10)\n"
   ]
  },
  {
   "cell_type": "code",
   "execution_count": 95,
   "id": "f0884ca2",
   "metadata": {},
   "outputs": [
    {
     "data": {
      "text/plain": [
       "title\n",
       "Healthcare Career Development Academy                    Udemy Instructor Udemy Instructor\n",
       "Andre Farnell                             Award-Winning Fitness Expert, Entrepreneur, A...\n",
       "Grzegorz Wisniewski                       Coach, Trainer, Manager, Executive MBA, Udemy...\n",
       "Greg Haitz                                Health Expert and Coach, Lead Capture Guru Ud...\n",
       "Dalton Grant Jr                           Story board artist and Producer at Red Giant ...\n",
       "                                                               ...                        \n",
       "더나은삶TV Betterlife                               회계사, 유튜버 Udemy Instructor Udemy Instructor\n",
       "3DRI 金子                                  ３Dソリューションコンサルタント Udemy Instructor Udemy Instru...\n",
       "藤田 泰仁                                           ３つの健康専門家 Udemy Instructor Udemy Instructor\n",
       "洋二 奥川                                    Ｏ脚改善、姿勢改善、不定愁訴の改善、体幹トレーニング、身体操作 Udemy Instruct...\n",
       "浅井 良一                                    ＸＢＡＳＥ・ＶＢＡ・システム開発・初心者向けＩＴ教育・新しい分野を見つけること Udemy ...\n",
       "Name: job_title, Length: 32233, dtype: object"
      ]
     },
     "execution_count": 95,
     "metadata": {},
     "output_type": "execute_result"
    }
   ],
   "source": [
    "df.sort_values(ascending=True)"
   ]
  },
  {
   "cell_type": "code",
   "execution_count": null,
   "id": "2a694b66",
   "metadata": {},
   "outputs": [],
   "source": []
  }
 ],
 "metadata": {
  "kernelspec": {
   "display_name": "Python 3 (ipykernel)",
   "language": "python",
   "name": "python3"
  },
  "language_info": {
   "codemirror_mode": {
    "name": "ipython",
    "version": 3
   },
   "file_extension": ".py",
   "mimetype": "text/x-python",
   "name": "python",
   "nbconvert_exporter": "python",
   "pygments_lexer": "ipython3",
   "version": "3.11.2"
  }
 },
 "nbformat": 4,
 "nbformat_minor": 5
}
