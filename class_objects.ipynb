{
 "cells": [
  {
   "cell_type": "code",
   "execution_count": 1,
   "metadata": {},
   "outputs": [
    {
     "name": "stdout",
     "output_type": "stream",
     "text": [
      "Jerry(18)\n",
      "Tom(20)\n",
      "Hi There! Your name is: Jerry and you are 18 year old.\n",
      "Hi There! Your name is: Tom and you are 20 year old.\n"
     ]
    }
   ],
   "source": [
    "\"\"\" \n",
    "Classes and Objects lets break it down.\n",
    "\"\"\"\n",
    "\n",
    "class Person:\n",
    "    def __init__(self, name, age):\n",
    "        self.name = name\n",
    "        self.age = age \n",
    "        \n",
    "\n",
    "    def __str__(self):\n",
    "        return f\"{self.name}({self.age})\"\n",
    "    \n",
    "    def myFunc(self):\n",
    "        return \"Hi There! Your name is: {} and you are {} year old.\".format(self.name, self.age)\n",
    "\n",
    "person1 = Person('Jerry', 18)\n",
    "person2 = Person('Tom', 20)\n",
    "\n",
    "#printing objects \n",
    "print(person1)\n",
    "print(person2)\n",
    "\n",
    "# Accessing class's method\n",
    "print(person1.myFunc())\n",
    "print(person2.myFunc())\n"
   ]
  },
  {
   "cell_type": "code",
   "execution_count": 2,
   "metadata": {},
   "outputs": [
    {
     "name": "stdout",
     "output_type": "stream",
     "text": [
      "Jerry(18)\n"
     ]
    }
   ],
   "source": [
    "print(person1)\n",
    "# setter demo\n",
    "person1.age = 21\n",
    "#delete the value of variable age\n",
    "del person1.age\n",
    "#deleting object itself\n",
    "del person1\n",
    "\n",
    "#creating class\n",
    "person1 = Person('Jerry',18)\n"
   ]
  },
  {
   "cell_type": "markdown",
   "metadata": {},
   "source": [
    "### Python Inheritance \n",
    "\n",
    "- Parent class - class being inherited from, also called base class.\n",
    "- child class - class that inherits from another class, also called derived class.\n",
    "\n"
   ]
  },
  {
   "cell_type": "code",
   "execution_count": 10,
   "metadata": {},
   "outputs": [
    {
     "name": "stdout",
     "output_type": "stream",
     "text": [
      "Harry Tom\n",
      "JerryK KrishJ\n"
     ]
    }
   ],
   "source": [
    "\"\"\" Child class overrides parentclass attributes by using __init__()\"\"\"\n",
    "class Person:  # parent class\n",
    "    def __init__(self, fname, lname):\n",
    "        self.firstname = fname\n",
    "        self.lastname = lname\n",
    "\n",
    "    def printname(self):\n",
    "        print(self.firstname, self.lastname)\n",
    "\n",
    "class Student(Person): # child class\n",
    "    def __init__(self, fname, lname):\n",
    "        self.firstname = fname + lname[:1]\n",
    "        self.lastname = lname + fname[:1]\n",
    "        # Person.__init__(self, fname, lname) \n",
    "\n",
    "# Use the Person class to create an object, and then execute the printname method:\n",
    "x = Person(\"Harry\",\"Tom\")\n",
    "x.printname()    \n",
    "\n",
    "stud_obj = Student(\"Jerry\",\"Krish\")\n",
    "stud_obj.printname()\n",
    "    "
   ]
  },
  {
   "cell_type": "code",
   "execution_count": 11,
   "metadata": {},
   "outputs": [
    {
     "name": "stdout",
     "output_type": "stream",
     "text": [
      "Harry Tom\n",
      "Jerry Krish\n"
     ]
    },
    {
     "ename": "",
     "evalue": "",
     "output_type": "error",
     "traceback": [
      "\u001b[1;31mThe Kernel crashed while executing code in the current cell or a previous cell. \n",
      "\u001b[1;31mPlease review the code in the cell(s) to identify a possible cause of the failure. \n",
      "\u001b[1;31mClick <a href='https://aka.ms/vscodeJupyterKernelCrash'>here</a> for more info. \n",
      "\u001b[1;31mView Jupyter <a href='command:jupyter.viewOutput'>log</a> for further details."
     ]
    }
   ],
   "source": [
    "\"\"\" Child class overrides parentclass attributes by using __init__()\"\"\"\n",
    "class Person:  # parent class\n",
    "    def __init__(self, fname, lname):\n",
    "        self.firstname = fname\n",
    "        self.lastname = lname\n",
    "\n",
    "    def printname(self):\n",
    "        print(self.firstname, self.lastname)\n",
    "\n",
    "class Student(Person): # child class\n",
    "    def __init__(self, fname, lname):\n",
    "        Person.__init__(self, fname, lname) \n",
    "\n",
    "# Use the Person class to create an object, and then execute the printname method:\n",
    "x = Person(\"Harry\",\"Tom\")\n",
    "x.printname()    \n",
    "\n",
    "stud_obj = Student(\"Jerry\",\"Krish\")\n",
    "stud_obj.printname()"
   ]
  },
  {
   "cell_type": "code",
   "execution_count": null,
   "metadata": {},
   "outputs": [],
   "source": []
  }
 ],
 "metadata": {
  "kernelspec": {
   "display_name": "success",
   "language": "python",
   "name": "python3"
  },
  "language_info": {
   "codemirror_mode": {
    "name": "ipython",
    "version": 3
   },
   "file_extension": ".py",
   "mimetype": "text/x-python",
   "name": "python",
   "nbconvert_exporter": "python",
   "pygments_lexer": "ipython3",
   "version": "3.11.4"
  }
 },
 "nbformat": 4,
 "nbformat_minor": 2
}
