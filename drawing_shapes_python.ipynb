{
 "cells": [
  {
   "cell_type": "code",
   "execution_count": 5,
   "metadata": {},
   "outputs": [],
   "source": [
    "from PIL import Image, ImageDraw\n",
    "\n",
    "def heart(size, fill):\n",
    "    width, height = size\n",
    "    img = Image.new('RGB', size, 'white')\n",
    "    draw = ImageDraw.Draw(img)\n",
    "    polygon = [\n",
    "        (width / 10, height / 3),\n",
    "        (width / 10, 81 * height / 120),\n",
    "        (width / 2, height),\n",
    "        (width - width / 10, 81 * height / 120),\n",
    "        (width - width / 10, height / 3),\n",
    "    ]\n",
    "    draw.polygon(polygon, fill=fill)\n",
    "    #img.show()\n",
    "\n",
    "    draw.ellipse((0, 0,  width / 2, 3 * height / 4), fill=fill)\n",
    "    draw.ellipse((width / 2, 0,  width, 3 * height / 4), fill=fill)\n",
    "    return img\n",
    "\n",
    "img = heart((200,200), \"red\")\n",
    "img.save(r'C:\\Users\\harish\\git\\Problem_Solving\\heart_shape.png')"
   ]
  },
  {
   "cell_type": "code",
   "execution_count": 9,
   "metadata": {},
   "outputs": [
    {
     "ename": "ValueError",
     "evalue": "illegal image mode",
     "output_type": "error",
     "traceback": [
      "\u001b[1;31m---------------------------------------------------------------------------\u001b[0m",
      "\u001b[1;31mValueError\u001b[0m                                Traceback (most recent call last)",
      "Cell \u001b[1;32mIn[9], line 30\u001b[0m\n\u001b[0;32m     27\u001b[0m mask \u001b[38;5;241m=\u001b[39m create_heart_mask(qr_image\u001b[38;5;241m.\u001b[39msize)\n\u001b[0;32m     29\u001b[0m \u001b[38;5;66;03m# Apply the mask to the QR code image\u001b[39;00m\n\u001b[1;32m---> 30\u001b[0m \u001b[43mqr_image\u001b[49m\u001b[38;5;241;43m.\u001b[39;49m\u001b[43mputalpha\u001b[49m\u001b[43m(\u001b[49m\u001b[43mmask\u001b[49m\u001b[43m)\u001b[49m\n\u001b[0;32m     32\u001b[0m \u001b[38;5;66;03m# Save the heart-shaped QR code image\u001b[39;00m\n\u001b[0;32m     33\u001b[0m qr_image\u001b[38;5;241m.\u001b[39msave(\u001b[38;5;124m\"\u001b[39m\u001b[38;5;124mheart_qr_code.png\u001b[39m\u001b[38;5;124m\"\u001b[39m)\n",
      "File \u001b[1;32mc:\\Users\\harish\\git\\success\\Lib\\site-packages\\PIL\\Image.py:1883\u001b[0m, in \u001b[0;36mImage.putalpha\u001b[1;34m(self, alpha)\u001b[0m\n\u001b[0;32m   1881\u001b[0m \u001b[38;5;28;01mif\u001b[39;00m alpha\u001b[38;5;241m.\u001b[39mmode \u001b[38;5;129;01mnot\u001b[39;00m \u001b[38;5;129;01min\u001b[39;00m (\u001b[38;5;124m\"\u001b[39m\u001b[38;5;124m1\u001b[39m\u001b[38;5;124m\"\u001b[39m, \u001b[38;5;124m\"\u001b[39m\u001b[38;5;124mL\u001b[39m\u001b[38;5;124m\"\u001b[39m):\n\u001b[0;32m   1882\u001b[0m     msg \u001b[38;5;241m=\u001b[39m \u001b[38;5;124m\"\u001b[39m\u001b[38;5;124millegal image mode\u001b[39m\u001b[38;5;124m\"\u001b[39m\n\u001b[1;32m-> 1883\u001b[0m     \u001b[38;5;28;01mraise\u001b[39;00m \u001b[38;5;167;01mValueError\u001b[39;00m(msg)\n\u001b[0;32m   1884\u001b[0m alpha\u001b[38;5;241m.\u001b[39mload()\n\u001b[0;32m   1885\u001b[0m \u001b[38;5;28;01mif\u001b[39;00m alpha\u001b[38;5;241m.\u001b[39mmode \u001b[38;5;241m==\u001b[39m \u001b[38;5;124m\"\u001b[39m\u001b[38;5;124m1\u001b[39m\u001b[38;5;124m\"\u001b[39m:\n",
      "\u001b[1;31mValueError\u001b[0m: illegal image mode"
     ]
    }
   ],
   "source": [
    "import qrcode\n",
    "from PIL import Image, ImageDraw\n",
    "\n",
    "# Function to create a heart shape mask\n",
    "def create_heart_mask(size):\n",
    "    mask = Image.new('1', size, 0)\n",
    "    draw = ImageDraw.Draw(mask)\n",
    "    draw.polygon([(size[0]//2, 0), (0, size[1]//2), (size[0]//2, size[1]), (size[0], size[1]//2)], fill=1)\n",
    "    draw.arc([0, 0, size[0], size[1]], 0, 360, fill=1)\n",
    "    draw.arc([size[0]//4, 0, size[0]*3//4, size[1]], 0, 360, fill=0)\n",
    "    return mask.convert(\"RGBA\")  # Convert mask to RGBA mode\n",
    "\n",
    "# Create a QR code\n",
    "qr = qrcode.QRCode(\n",
    "    version=None,\n",
    "    error_correction=qrcode.constants.ERROR_CORRECT_L,\n",
    "    box_size=10,\n",
    "    border=4,\n",
    ")\n",
    "qr.add_data(\"https://example.com\")\n",
    "qr.make(fit=True)\n",
    "\n",
    "# Convert QR code to an image\n",
    "qr_image = qr.make_image(fill_color=\"black\", back_color=\"white\").convert(\"RGBA\")  # Convert QR code image to RGBA mode\n",
    "\n",
    "# Create a heart-shaped mask\n",
    "mask = create_heart_mask(qr_image.size)\n",
    "\n",
    "# Apply the mask to the QR code image\n",
    "qr_image.putalpha(mask)\n",
    "\n",
    "# Save the heart-shaped QR code image\n",
    "qr_image.save(\"heart_qr_code.png\")\n"
   ]
  }
 ],
 "metadata": {
  "kernelspec": {
   "display_name": "success",
   "language": "python",
   "name": "python3"
  },
  "language_info": {
   "codemirror_mode": {
    "name": "ipython",
    "version": 3
   },
   "file_extension": ".py",
   "mimetype": "text/x-python",
   "name": "python",
   "nbconvert_exporter": "python",
   "pygments_lexer": "ipython3",
   "version": "3.11.4"
  }
 },
 "nbformat": 4,
 "nbformat_minor": 2
}
