{
 "cells": [
  {
   "cell_type": "markdown",
   "metadata": {},
   "source": [
    "## Lambda Function \n",
    "#### https://www.youtube.com/playlist?list=PLH6mU1kedUy84TsNa1654qkHjIeZ_wllA"
   ]
  },
  {
   "cell_type": "code",
   "execution_count": 1,
   "metadata": {},
   "outputs": [],
   "source": [
    "multiply = lambda x, y : x * y"
   ]
  },
  {
   "cell_type": "code",
   "execution_count": 2,
   "metadata": {},
   "outputs": [
    {
     "data": {
      "text/plain": [
       "63755"
      ]
     },
     "execution_count": 2,
     "metadata": {},
     "output_type": "execute_result"
    }
   ],
   "source": [
    "multiply(205, 311)\n"
   ]
  },
  {
   "cell_type": "code",
   "execution_count": 3,
   "metadata": {},
   "outputs": [],
   "source": [
    "power = lambda x, y : x ** y"
   ]
  },
  {
   "cell_type": "code",
   "execution_count": 4,
   "metadata": {},
   "outputs": [
    {
     "data": {
      "text/plain": [
       "8"
      ]
     },
     "execution_count": 4,
     "metadata": {},
     "output_type": "execute_result"
    }
   ],
   "source": [
    "power(2, 3)"
   ]
  },
  {
   "cell_type": "markdown",
   "metadata": {},
   "source": [
    "### Map and Lambda Function"
   ]
  },
  {
   "cell_type": "code",
   "execution_count": 6,
   "metadata": {},
   "outputs": [
    {
     "name": "stdout",
     "output_type": "stream",
     "text": [
      "[2, 4, 6, 8]\n",
      "<map object at 0x000001EC17625D80>\n",
      "[4, 8, 12, 16]\n"
     ]
    }
   ],
   "source": [
    "some_num = [2, 4, 6, 8]\n",
    "\n",
    "print(some_num)\n",
    "\n",
    "double = map(lambda x: x + x, some_num)\n",
    "\n",
    "print(double) # <map object at 0x000001EC17626080>\n",
    "print(list(double))"
   ]
  },
  {
   "cell_type": "code",
   "execution_count": 7,
   "metadata": {},
   "outputs": [
    {
     "name": "stdout",
     "output_type": "stream",
     "text": [
      "['MY', 'PYTHON']\n"
     ]
    }
   ],
   "source": [
    "strings = [\"My\", \"Python\"]\n",
    "cap = map(lambda x: str.upper(x), strings)\n",
    "print(list(cap))"
   ]
  },
  {
   "cell_type": "markdown",
   "metadata": {},
   "source": [
    "### Sorting with lambda function "
   ]
  },
  {
   "cell_type": "code",
   "execution_count": 13,
   "metadata": {},
   "outputs": [
    {
     "name": "stdout",
     "output_type": "stream",
     "text": [
      "Unsorted even after using sorted():  [35, 39, 32, 23, 37, 30, 33]\n",
      "sorted by using new variable to store the sorted() result: [23, 30, 32, 33, 35, 37, 39]\n",
      "Sorted after using sort() in the list:  [23, 30, 32, 33, 35, 37, 39]\n",
      "reverse = True, in sort() will do sorting in reverse order : [39, 37, 35, 33, 32, 30, 23]\n"
     ]
    }
   ],
   "source": [
    "attendance = [35, 39, 32, 23, 37, 30, 33]\n",
    "\n",
    "new_sorted = sorted(attendance, reverse=False)\n",
    "\n",
    "print(\"Unsorted even after using sorted(): \", attendance)\n",
    "print(\"sorted by using new variable to store the sorted() result:\",new_sorted)\n",
    "\n",
    "attendance.sort()\n",
    "print(\"Sorted after using sort() in the list: \",attendance)\n",
    "\n",
    "attendance.sort(reverse= True)\n",
    "print(\"reverse = True, in sort() will do sorting in reverse order :\", attendance)\n",
    "## Difference between sorted and sort -> sorted wont change the actual value instead allows user to copy the result in another variable, while sort function directly change the value in the real variable\n",
    "\n"
   ]
  },
  {
   "cell_type": "code",
   "execution_count": 16,
   "metadata": {},
   "outputs": [
    {
     "name": "stdout",
     "output_type": "stream",
     "text": [
      "new attendance:  [39, 37, 35, 33, 32, 30, 23]\n"
     ]
    }
   ],
   "source": [
    "attendance.sort(key = lambda  x: x * -1.5)\n",
    "print(\"new attendance: \", attendance)"
   ]
  },
  {
   "cell_type": "code",
   "execution_count": 5,
   "metadata": {},
   "outputs": [
    {
     "name": "stdout",
     "output_type": "stream",
     "text": [
      "The average is:  34.57142857142857\n",
      "<filter object at 0x000001FFD15E9870>\n",
      "[36, 39, 35, 37]\n",
      "['India', 'France', 'Germany']\n"
     ]
    }
   ],
   "source": [
    "# 4/19 - Filter and lambda function\n",
    "\n",
    "attendance = [36, 39, 32, 30, 33, 35, 37]\n",
    "\n",
    "avg = sum(attendance)/ len(attendance)\n",
    "print(\"The average is: \", avg)\n",
    "abv_avg_att = filter(lambda x: x >= avg, attendance)\n",
    "\n",
    "print(abv_avg_att)\n",
    "print(list(abv_avg_att))\n",
    "\n",
    "countries = ['India','US','UK','France','Germany','UAE']\n",
    "\n",
    "count_ge3 = filter(lambda x: len(x) > 3, countries)\n",
    "print(list(count_ge3))"
   ]
  },
  {
   "cell_type": "code",
   "execution_count": null,
   "metadata": {},
   "outputs": [],
   "source": []
  },
  {
   "cell_type": "code",
   "execution_count": null,
   "metadata": {},
   "outputs": [],
   "source": []
  },
  {
   "cell_type": "code",
   "execution_count": null,
   "metadata": {},
   "outputs": [],
   "source": []
  },
  {
   "cell_type": "code",
   "execution_count": null,
   "metadata": {},
   "outputs": [],
   "source": []
  },
  {
   "cell_type": "code",
   "execution_count": null,
   "metadata": {},
   "outputs": [],
   "source": []
  },
  {
   "cell_type": "code",
   "execution_count": null,
   "metadata": {},
   "outputs": [],
   "source": []
  },
  {
   "cell_type": "code",
   "execution_count": null,
   "metadata": {},
   "outputs": [],
   "source": []
  }
 ],
 "metadata": {
  "kernelspec": {
   "display_name": "success",
   "language": "python",
   "name": "python3"
  },
  "language_info": {
   "codemirror_mode": {
    "name": "ipython",
    "version": 3
   },
   "file_extension": ".py",
   "mimetype": "text/x-python",
   "name": "python",
   "nbconvert_exporter": "python",
   "pygments_lexer": "ipython3",
   "version": "3.11.4"
  }
 },
 "nbformat": 4,
 "nbformat_minor": 2
}
