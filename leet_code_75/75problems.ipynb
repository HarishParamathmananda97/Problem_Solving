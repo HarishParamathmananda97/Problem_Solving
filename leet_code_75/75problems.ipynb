{
 "cells": [
  {
   "cell_type": "code",
   "execution_count": null,
   "metadata": {},
   "outputs": [],
   "source": [
    "class Solution:\n",
    "\n",
    "    def buy_sell(self, num: list[int]) -> list[int]:\n",
    "        # num = [7, 1, 5, 3, 6, 4]\n",
    "        l, r = 0, 1\n",
    "        maxP = 0\n",
    "\n",
    "        while r < len(num):  # 1 < 8 | 2 < 8\n",
    "            if num[l] < num[r]: # 1 < 7 | 1 < 5\n",
    "                profit = num[r] - num[l] # 7 - 1 | 5 - 1 |\n",
    "                maxP = max(maxP, profit) # 6 | 6\n",
    "\n",
    "            else:\n",
    "                l = r\n",
    "            r += 1  # 2\n",
    "\n",
    "        return maxP\n",
    "    \n",
    "\n",
    "num =  [1, 7, 5, 3, 6, 4, 2, 10]\n",
    "sol = Solution()\n",
    "sol.buy_sell(num)\n"
   ]
  },
  {
   "cell_type": "code",
   "execution_count": null,
   "metadata": {},
   "outputs": [],
   "source": [
    "class Solution:\n",
    "    def duplicates(self, num: list[int])-> bool:\n",
    "        if len(num) != len(set(num)):\n",
    "            return True\n",
    "        else:\n",
    "            return False\n",
    "        \n",
    "\n",
    "\n",
    "num = [1, 2, 3, 4]\n",
    "sol = Solution()\n",
    "print(sol.duplicates(num))"
   ]
  },
  {
   "cell_type": "code",
   "execution_count": null,
   "metadata": {},
   "outputs": [],
   "source": [
    "class Solution:\n",
    "    def productExceptSelf(self, nums: list[int]) -> list[int]:\n",
    "        res = [1] * (len(nums))\n",
    "        prefix = 1\n",
    "        for i in range(len(nums)):\n",
    "            res[i] = prefix \n",
    "            prefix *= nums[i]\n",
    "        postfix = 1\n",
    "        for i in range(len(nums) -1, -1, -1):\n",
    "            res[i] *= postfix \n",
    "            postfix *= nums[i]\n",
    "        return res \n",
    "    \n",
    "\n",
    "\n",
    "nums = [1, 2, 3, 4]\n",
    "sol = Solution()\n",
    "print(sol.productExceptSelf(nums))\n"
   ]
  },
  {
   "cell_type": "code",
   "execution_count": null,
   "metadata": {},
   "outputs": [],
   "source": [
    "class Solution:\n",
    "    def maxSubArray(self, nums: list[int]) -> int:\n",
    "        maxSum = nums[0]\n",
    "        curSum = 0\n",
    "        for n in nums:\n",
    "            if curSum < 0:\n",
    "                curSum = 0\n",
    "            curSum += n\n",
    "            maxSum = max(maxSum, curSum)\n",
    "        return maxSum\n",
    "    \n",
    "nums = [-2, 1, -3, 4, -1, 2, 1, -5, 4]\n",
    "sol = Solution()\n",
    "print(sol.maxSubArray(nums))"
   ]
  },
  {
   "cell_type": "code",
   "execution_count": 14,
   "metadata": {},
   "outputs": [
    {
     "name": "stdout",
     "output_type": "stream",
     "text": [
      "-1\n",
      "1 -1 1\n",
      "-1\n",
      "2\n",
      "-1 -2 -1\n",
      "-1\n",
      "-6\n",
      "2 -3 -2\n",
      "2\n",
      "6\n"
     ]
    }
   ],
   "source": [
    "# It has one draw back if we have list like [-1, -2, -3] -> [-2, -3]= +6 but if we change negative to 1 then we miss this so rewriting better.\n",
    "# class Solution:\n",
    "#     def max_prod_subarray(self, nums: list[int]) -> int:\n",
    "#         # [2, 3, -2, 4, 6]\n",
    "#         curProd = nums[0]\n",
    "#         maxProd = curProd\n",
    "#         for n in nums[1:]:\n",
    "#             curProd = curProd * n\n",
    "#             maxProd = max(maxProd, curProd)\n",
    "#             if curProd < 0:\n",
    "#                 curProd = 1\n",
    "#         return maxProd\n",
    "    \n",
    "class Solution:\n",
    "    def maxProduct(self, nums: list[int]) -> int:\n",
    "        res = max(nums)\n",
    "        curMin, curMax = 1, 1\n",
    "\n",
    "        for n in nums:\n",
    "            if n == 0:\n",
    "                curMin, curMax = 1, 1\n",
    "                continue\n",
    "            tmp = curMax * n\n",
    "            print(tmp)\n",
    "            print(curMax, n, curMin)\n",
    "            curMax = max( n * curMax, n * curMin, n)\n",
    "            curMin = min(tmp, n * curMin, n)\n",
    "            print(res)\n",
    "            res = max(res, curMax)\n",
    "        return res\n",
    "\n",
    "\n",
    "nums = [2, 3, -2, 4, 6]\n",
    "nums = [-1, -2, -3]\n",
    "sol = Solution()\n",
    "print(sol.maxProduct(nums))\n"
   ]
  },
  {
   "cell_type": "code",
   "execution_count": 17,
   "metadata": {},
   "outputs": [
    {
     "name": "stdout",
     "output_type": "stream",
     "text": [
      "3 0\n",
      "1 0\n",
      "0 0\n",
      "0\n"
     ]
    }
   ],
   "source": [
    "class Solution:\n",
    "    def findMin(self, nums: list[int]) -> int:\n",
    "        res = nums[0]\n",
    "        l, r = 0, len(nums) - 1\n",
    "\n",
    "        while l <= r:\n",
    "            print(nums[l], nums[r])\n",
    "            if nums[l] < nums[r]:\n",
    "                res = min(res, nums[l])\n",
    "                print(min(res, nums[l]))\n",
    "                break\n",
    "            m = (l + r) // 2\n",
    "            res = min(res, nums[m])\n",
    "            if nums[m] >= nums[l]:\n",
    "                l = m + 1\n",
    "            else:\n",
    "                r = m - 1\n",
    "        return res\n",
    "\n",
    "\n",
    "nums = [3, 4, 5, 1, 2, 0]\n",
    "sol = Solution()\n",
    "print(sol.findMin(nums))"
   ]
  },
  {
   "cell_type": "code",
   "execution_count": 4,
   "metadata": {},
   "outputs": [
    {
     "data": {
      "text/plain": [
       "1"
      ]
     },
     "execution_count": 4,
     "metadata": {},
     "output_type": "execute_result"
    }
   ],
   "source": [
    "# [3, 4, 5, 1, 2]   => O( n logn )\n",
    "class Solution:\n",
    "    def min_sa(self, nums: list[int]) -> int:\n",
    "        res = nums[0]\n",
    "        l, r = 0, len(nums) - 1\n",
    "\n",
    "        while l <= r:\n",
    "            if nums[l] < nums[r]:\n",
    "                res = min(res, nums[l])\n",
    "                break\n",
    "                \n",
    "            m = (l + r ) // 2\n",
    "            res = min(res, nums[m])\n",
    "            if nums[m] >= nums[l]:\n",
    "                l = m + 1\n",
    "            else:\n",
    "                r = m - 1\n",
    "        return res \n",
    "\n",
    "nums = [3, 4, 5, 6, 7, 8, 1, 2]\n",
    "sol = Solution()\n",
    "sol.min_sa(nums)"
   ]
  }
 ],
 "metadata": {
  "kernelspec": {
   "display_name": "Python 3",
   "language": "python",
   "name": "python3"
  },
  "language_info": {
   "codemirror_mode": {
    "name": "ipython",
    "version": 3
   },
   "file_extension": ".py",
   "mimetype": "text/x-python",
   "name": "python",
   "nbconvert_exporter": "python",
   "pygments_lexer": "ipython3",
   "version": "3.11.7"
  }
 },
 "nbformat": 4,
 "nbformat_minor": 2
}
