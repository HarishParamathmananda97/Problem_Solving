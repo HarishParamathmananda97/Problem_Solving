{
 "cells": [
  {
   "cell_type": "markdown",
   "metadata": {},
   "source": [
    "##### Working with series in pandas"
   ]
  },
  {
   "cell_type": "code",
   "execution_count": 7,
   "metadata": {},
   "outputs": [
    {
     "name": "stdout",
     "output_type": "stream",
     "text": [
      "0    10\n",
      "1    20\n",
      "2    30\n",
      "3    40\n",
      "4    50\n",
      "dtype: int64\n",
      "0    1.05\n",
      "1    2.10\n",
      "2    3.15\n",
      "3    4.20\n",
      "4    5.25\n",
      "dtype: float64\n",
      "a    1.05\n",
      "b    2.10\n",
      "c    3.15\n",
      "d    4.20\n",
      "e    5.25\n",
      "dtype: float64\n",
      "3.15\n",
      "0    15\n",
      "1    25\n",
      "2    35\n",
      "3    45\n",
      "4    55\n",
      "dtype: int64\n"
     ]
    }
   ],
   "source": [
    "import pandas as pd\n",
    "\n",
    "s1 = pd.Series([10, 20, 30, 40, 50])\n",
    "print(s1)\n",
    "s1 = pd.Series([1.05, 2.10, 3.15, 4.20, 5.25])\n",
    "print(s1)\n",
    "\n",
    "#manually applying index using index argument.\n",
    "s1 = pd.Series([1.05, 2.10, 3.15, 4.20, 5.25], index=['a','b','c','d','e'])\n",
    "print(s1)\n",
    "# print particular indexed number\n",
    "print(s1['c'])\n",
    "\n",
    "# adding particular number to the all the element in the series\n",
    "s1 = pd.Series([10, 20, 30, 40, 50])\n",
    "s3 = s1 + 5\n",
    "print(s3)"
   ]
  },
  {
   "cell_type": "code",
   "execution_count": 8,
   "metadata": {},
   "outputs": [
    {
     "name": "stdout",
     "output_type": "stream",
     "text": [
      "2    2.25\n",
      "3    2.75\n",
      "4    3.25\n",
      "dtype: float64\n"
     ]
    }
   ],
   "source": [
    "import pandas as pd\n",
    "\n",
    "s1= pd.Series([1.25, 1.75, 2.25, 2.75, 3.25])\n",
    "#filtering\n",
    "s2 = s1[s1 > 2]\n",
    "print(s2)"
   ]
  },
  {
   "cell_type": "code",
   "execution_count": 9,
   "metadata": {},
   "outputs": [
    {
     "name": "stdout",
     "output_type": "stream",
     "text": [
      "0    10\n",
      "1    20\n",
      "2    30\n",
      "3    40\n",
      "4    50\n",
      "dtype: int32\n"
     ]
    }
   ],
   "source": [
    "# combining pandas with numpy\n",
    "import pandas as pd\n",
    "import numpy as np\n",
    "\n",
    "arr = np.array([10, 20, 30, 40, 50])\n",
    "s = pd.Series(arr)\n",
    "print(s)"
   ]
  },
  {
   "cell_type": "code",
   "execution_count": 12,
   "metadata": {},
   "outputs": [
    {
     "name": "stdout",
     "output_type": "stream",
     "text": [
      "The Mean value is: 30.0\n",
      "Max value is: 50\n",
      "Min value is : 10\n"
     ]
    }
   ],
   "source": [
    "#finding average of element in the series\n",
    "s1 = pd.Series([10, 20, 30, 40, 50])\n",
    "print(f\"The Mean value is: {s1.mean()}\")\n",
    "\n",
    "# finding maximum value in the series\n",
    "print(f\"Max value is: {s1.max()}\")\n",
    "\n",
    "# Finding the minimum value in the series\n",
    "print(f\"Min value is : {s1.min()}\")\n",
    "\n",
    "\n"
   ]
  },
  {
   "cell_type": "code",
   "execution_count": 14,
   "metadata": {},
   "outputs": [
    {
     "name": "stdout",
     "output_type": "stream",
     "text": [
      "Original Series is:  0    10\n",
      "1    20\n",
      "2    55\n",
      "3    30\n",
      "4    21\n",
      "5    40\n",
      "6    50\n",
      "dtype: int64\n",
      "Sorted Series is:  0    10\n",
      "1    20\n",
      "4    21\n",
      "3    30\n",
      "5    40\n",
      "6    50\n",
      "2    55\n",
      "dtype: int64\n",
      "0    10\n",
      "1    20\n",
      "2    55\n",
      "3    30\n",
      "4    21\n",
      "5    40\n",
      "6    50\n",
      "dtype: int64\n"
     ]
    }
   ],
   "source": [
    "#Sorting the Series\n",
    "import pandas as pd\n",
    "s1 = pd.Series([10, 20, 55, 30, 21, 40, 50])\n",
    "print(\"Original Series is: \", s1)\n",
    "print(\"Sorted Series is: \", s1.sort_values())\n",
    "\n",
    "print(s1)\n"
   ]
  },
  {
   "cell_type": "code",
   "execution_count": 16,
   "metadata": {},
   "outputs": [
    {
     "name": "stdout",
     "output_type": "stream",
     "text": [
      "Number of unique Elements in the series is: [10 20 30]\n",
      "To get the count of Unique elements in the series is: 3\n"
     ]
    }
   ],
   "source": [
    "# Unique elements\n",
    "\n",
    "s1 = pd.Series([10, 20, 30, 20, 10])\n",
    "print(\"Number of unique Elements in the series is:\",s1.unique())\n",
    "\n",
    "print(f\"To get the count of Unique elements in the series is: {s1.nunique()}\")"
   ]
  },
  {
   "cell_type": "code",
   "execution_count": 20,
   "metadata": {},
   "outputs": [
    {
     "name": "stdout",
     "output_type": "stream",
     "text": [
      "count     6.000000\n",
      "mean     35.000000\n",
      "std      18.708287\n",
      "min      10.000000\n",
      "25%      22.500000\n",
      "50%      35.000000\n",
      "75%      47.500000\n",
      "max      60.000000\n",
      "dtype: float64\n",
      "to access particular value using key (mean) is: 35.0\n"
     ]
    }
   ],
   "source": [
    "# Statistics Summary in Series - describe()\n",
    "\n",
    "import pandas as pd\n",
    "\n",
    "s1 = pd.Series([10, 20, 30, 50, 40, 60])\n",
    "print(s1.describe())\n",
    "print(f\"to access particular value using key (mean) is: {s1.describe()['mean']}\")\n",
    "\n"
   ]
  },
  {
   "cell_type": "code",
   "execution_count": 21,
   "metadata": {},
   "outputs": [
    {
     "name": "stdout",
     "output_type": "stream",
     "text": [
      "Empty DataFrame\n",
      "Columns: []\n",
      "Index: []\n"
     ]
    }
   ],
   "source": [
    "# Creating Empty DataFrame\n",
    "\n",
    "import pandas as pd\n",
    "\n",
    "df = pd.DataFrame()\n",
    "print(df)\n",
    "\n"
   ]
  },
  {
   "cell_type": "code",
   "execution_count": 22,
   "metadata": {},
   "outputs": [
    {
     "name": "stdout",
     "output_type": "stream",
     "text": [
      "    Name           Team\n",
      "0  Harry             IT\n",
      "1  Jerry  BankingSector\n"
     ]
    }
   ],
   "source": [
    "# Creating Dataframe from Series\n",
    "\n",
    "import pandas as pd\n",
    "\n",
    "name = pd.Series(['Harry','Jerry'])\n",
    "team = pd.Series(['IT','BankingSector'])\n",
    "\n",
    "dict = {'Name':name, 'Team': team}\n",
    "df = pd.DataFrame(dict)\n",
    "print(df)"
   ]
  },
  {
   "cell_type": "code",
   "execution_count": 24,
   "metadata": {},
   "outputs": [
    {
     "name": "stdout",
     "output_type": "stream",
     "text": [
      "     Name          SirName\n",
      "0   Harry  Paramathmananda\n",
      "1   Jerry   Krishnamoorthy\n",
      "2  Balaji       Prabakaran\n",
      "\n",
      " Row index is: 0\n",
      "\n",
      " Row value is: Name                 Harry\n",
      "SirName    Paramathmananda\n",
      "Name: 0, dtype: object\n",
      "\n",
      " Row index is: 1\n",
      "\n",
      " Row value is: Name                Jerry\n",
      "SirName    Krishnamoorthy\n",
      "Name: 1, dtype: object\n",
      "\n",
      " Row index is: 2\n",
      "\n",
      " Row value is: Name           Balaji\n",
      "SirName    Prabakaran\n",
      "Name: 2, dtype: object\n"
     ]
    }
   ],
   "source": [
    "# Creating DataFrame from List of dictionaries\n",
    "\n",
    "import pandas as pd\n",
    "\n",
    "l = [{'Name':'Harry','SirName':'Paramathmananda'},\n",
    "{'Name':'Jerry','SirName':'Krishnamoorthy'},\n",
    "{'Name':'Balaji','SirName':'Prabakaran'},]\n",
    "\n",
    "df = pd.DataFrame(l)\n",
    "print(df)\n",
    "\n",
    "# accessing row and index value\n",
    "for (row_index, row_value) in df.iterrows():\n",
    "    print(f\"\\n Row index is: {row_index}\")\n",
    "    print(f\"\\n Row value is: {row_value}\")"
   ]
  },
  {
   "cell_type": "code",
   "execution_count": null,
   "metadata": {},
   "outputs": [],
   "source": []
  }
 ],
 "metadata": {
  "kernelspec": {
   "display_name": "success",
   "language": "python",
   "name": "python3"
  },
  "language_info": {
   "codemirror_mode": {
    "name": "ipython",
    "version": 3
   },
   "file_extension": ".py",
   "mimetype": "text/x-python",
   "name": "python",
   "nbconvert_exporter": "python",
   "pygments_lexer": "ipython3",
   "version": "3.11.4"
  }
 },
 "nbformat": 4,
 "nbformat_minor": 2
}
