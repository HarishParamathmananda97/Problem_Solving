{
 "cells": [
  {
   "cell_type": "markdown",
   "metadata": {},
   "source": [
    "### Pyspark Handling Missing Values\n",
    "* Dropping Columns\n",
    "* Dropping Rows\n",
    "* Various Parameter in Dropping functionalities\n",
    "* Handling Missing values by Mean"
   ]
  },
  {
   "cell_type": "code",
   "execution_count": null,
   "metadata": {},
   "outputs": [],
   "source": [
    "import pyspark"
   ]
  },
  {
   "cell_type": "code",
   "execution_count": 1,
   "metadata": {},
   "outputs": [],
   "source": [
    "from pyspark.sql import SparkSession\n",
    "spark = SparkSession.builder.appName('Practise').getOrCreate()"
   ]
  },
  {
   "cell_type": "code",
   "execution_count": 28,
   "metadata": {},
   "outputs": [
    {
     "name": "stdout",
     "output_type": "stream",
     "text": [
      "+------+----+----------+------+\n",
      "|  Name| Age|Experience|Salary|\n",
      "+------+----+----------+------+\n",
      "| Harry|  27|         2| 25000|\n",
      "| Jerry|  27|         4| 40000|\n",
      "| param|  65|        40|200000|\n",
      "| Laksh|  54|        30| 30000|\n",
      "| Babji|  33|        10| 50000|\n",
      "|  Anni|  32|        10| 55000|\n",
      "|vishwa|null|      null|105000|\n",
      "|  null|  34|        10| 38000|\n",
      "|  null|  36|      null|  null|\n",
      "+------+----+----------+------+\n",
      "\n"
     ]
    }
   ],
   "source": [
    "df_pyspark = spark.read.csv('spark_tutorial.csv', header=True, inferSchema=True)\n",
    "spark.read.csv('spark_tutorial.csv', header=True, inferSchema=True).show()"
   ]
  },
  {
   "cell_type": "code",
   "execution_count": 5,
   "metadata": {},
   "outputs": [
    {
     "name": "stdout",
     "output_type": "stream",
     "text": [
      "+----+----------+------+\n",
      "| Age|Experience|Salary|\n",
      "+----+----------+------+\n",
      "|  27|         2| 25000|\n",
      "|  27|         4| 40000|\n",
      "|  65|        40|200000|\n",
      "|  54|        30| 30000|\n",
      "|  33|        10| 50000|\n",
      "|  32|        10| 55000|\n",
      "|null|      null|105000|\n",
      "|  34|        10| 38000|\n",
      "|  36|      null|  null|\n",
      "+----+----------+------+\n",
      "\n"
     ]
    }
   ],
   "source": [
    "### dropping the columns:\n",
    "df_pyspark.drop('Name').show()"
   ]
  },
  {
   "cell_type": "code",
   "execution_count": 7,
   "metadata": {},
   "outputs": [
    {
     "name": "stdout",
     "output_type": "stream",
     "text": [
      "+-----+---+----------+------+\n",
      "| Name|Age|Experience|Salary|\n",
      "+-----+---+----------+------+\n",
      "|Harry| 27|         2| 25000|\n",
      "|Jerry| 27|         4| 40000|\n",
      "|param| 65|        40|200000|\n",
      "|Laksh| 54|        30| 30000|\n",
      "|Babji| 33|        10| 50000|\n",
      "| Anni| 32|        10| 55000|\n",
      "+-----+---+----------+------+\n",
      "\n"
     ]
    }
   ],
   "source": [
    "#na.drop() will remove all the null values in any of the row.\n",
    "\n",
    "df_pyspark.na.drop().show()"
   ]
  },
  {
   "cell_type": "code",
   "execution_count": 11,
   "metadata": {},
   "outputs": [
    {
     "name": "stdout",
     "output_type": "stream",
     "text": [
      "+------+----+----------+------+\n",
      "|  Name| Age|Experience|Salary|\n",
      "+------+----+----------+------+\n",
      "| Harry|  27|         2| 25000|\n",
      "| Jerry|  27|         4| 40000|\n",
      "| param|  65|        40|200000|\n",
      "| Laksh|  54|        30| 30000|\n",
      "| Babji|  33|        10| 50000|\n",
      "|  Anni|  32|        10| 55000|\n",
      "|vishwa|null|      null|105000|\n",
      "|  null|  34|        10| 38000|\n",
      "|  null|  36|      null|  null|\n",
      "+------+----+----------+------+\n",
      "\n",
      "None\n"
     ]
    }
   ],
   "source": [
    "### how = 'all' will remove the row only if all the col in that row carries null value\n",
    "\n",
    "df_pyspark.na.drop(how=\"all\").show()"
   ]
  },
  {
   "cell_type": "code",
   "execution_count": 13,
   "metadata": {},
   "outputs": [
    {
     "name": "stdout",
     "output_type": "stream",
     "text": [
      "+-----+---+----------+------+\n",
      "| Name|Age|Experience|Salary|\n",
      "+-----+---+----------+------+\n",
      "|Harry| 27|         2| 25000|\n",
      "|Jerry| 27|         4| 40000|\n",
      "|param| 65|        40|200000|\n",
      "|Laksh| 54|        30| 30000|\n",
      "|Babji| 33|        10| 50000|\n",
      "| Anni| 32|        10| 55000|\n",
      "+-----+---+----------+------+\n",
      "\n"
     ]
    }
   ],
   "source": [
    "### how = 'any' will remove the row if any of the col in that row carries null value\n",
    "\n",
    "df_pyspark.na.drop(how=\"any\").show()"
   ]
  },
  {
   "cell_type": "code",
   "execution_count": 15,
   "metadata": {},
   "outputs": [
    {
     "name": "stdout",
     "output_type": "stream",
     "text": [
      "+------+----+----------+------+\n",
      "|  Name| Age|Experience|Salary|\n",
      "+------+----+----------+------+\n",
      "| Harry|  27|         2| 25000|\n",
      "| Jerry|  27|         4| 40000|\n",
      "| param|  65|        40|200000|\n",
      "| Laksh|  54|        30| 30000|\n",
      "| Babji|  33|        10| 50000|\n",
      "|  Anni|  32|        10| 55000|\n",
      "|vishwa|null|      null|105000|\n",
      "|  null|  34|        10| 38000|\n",
      "+------+----+----------+------+\n",
      "\n",
      "+------+----+----------+------+\n",
      "|  Name| Age|Experience|Salary|\n",
      "+------+----+----------+------+\n",
      "| Harry|  27|         2| 25000|\n",
      "| Jerry|  27|         4| 40000|\n",
      "| param|  65|        40|200000|\n",
      "| Laksh|  54|        30| 30000|\n",
      "| Babji|  33|        10| 50000|\n",
      "|  Anni|  32|        10| 55000|\n",
      "|vishwa|null|      null|105000|\n",
      "|  null|  34|        10| 38000|\n",
      "|  null|  36|      null|  null|\n",
      "+------+----+----------+------+\n",
      "\n"
     ]
    }
   ],
   "source": [
    "## Threshold value means, atleast mentioned non-null values should present, else will be removed.\n",
    "# thresh = 1 means atleast 1 non null values should be there to skip.\n",
    "df_pyspark.na.drop(how=\"any\", thresh = 2).show()\n",
    "df_pyspark.na.drop(how=\"any\", thresh = 1).show()"
   ]
  },
  {
   "cell_type": "code",
   "execution_count": 16,
   "metadata": {},
   "outputs": [
    {
     "name": "stdout",
     "output_type": "stream",
     "text": [
      "+-----+---+----------+------+\n",
      "| Name|Age|Experience|Salary|\n",
      "+-----+---+----------+------+\n",
      "|Harry| 27|         2| 25000|\n",
      "|Jerry| 27|         4| 40000|\n",
      "|param| 65|        40|200000|\n",
      "|Laksh| 54|        30| 30000|\n",
      "|Babji| 33|        10| 50000|\n",
      "| Anni| 32|        10| 55000|\n",
      "| null| 34|        10| 38000|\n",
      "+-----+---+----------+------+\n",
      "\n"
     ]
    }
   ],
   "source": [
    "## Subset\n",
    "df_pyspark.na.drop(how = \"any\", subset = ['Experience']).show()"
   ]
  },
  {
   "cell_type": "code",
   "execution_count": 43,
   "metadata": {},
   "outputs": [
    {
     "name": "stdout",
     "output_type": "stream",
     "text": [
      "+------+----+----------+------+\n",
      "|  Name| Age|Experience|Salary|\n",
      "+------+----+----------+------+\n",
      "| Harry|  27|         2| 25000|\n",
      "| Jerry|  27|         4| 40000|\n",
      "| param|  65|        40|200000|\n",
      "| Laksh|  54|        30| 30000|\n",
      "| Babji|  33|        10| 50000|\n",
      "|  Anni|  32|        10| 55000|\n",
      "|vishwa|null|      null|105000|\n",
      "|  null|  34|        10| 38000|\n",
      "|  null|  36|      null|  null|\n",
      "+------+----+----------+------+\n",
      "\n"
     ]
    }
   ],
   "source": [
    "### Filling the Missing Value\n",
    "df_pyspark.na.fill('Missing values', ['Experience','Salary']).show()"
   ]
  },
  {
   "cell_type": "code",
   "execution_count": 49,
   "metadata": {},
   "outputs": [],
   "source": [
    "## Taking mean and paste it on the null value\n",
    "\n",
    "from pyspark.ml.feature import Imputer\n",
    "\n",
    "# mean\n",
    "imputer = Imputer(\n",
    "    inputCols=['Age','Experience','Salary'],\n",
    "    outputCols=[f\"{c}_imputed\" for c in ['Age','Experience','Salary']]).setStrategy(\"mean\")\n",
    "\n",
    "# median\n",
    "imputer = Imputer(\n",
    "    inputCols=['Age','Experience','Salary'],\n",
    "    outputCols=[f\"{c}_imputed\" for c in ['Age','Experience','Salary']]).setStrategy(\"median\")\n"
   ]
  },
  {
   "cell_type": "code",
   "execution_count": 50,
   "metadata": {},
   "outputs": [
    {
     "name": "stdout",
     "output_type": "stream",
     "text": [
      "+------+----+----------+------+-----------+------------------+--------------+\n",
      "|  Name| Age|Experience|Salary|Age_imputed|Experience_imputed|Salary_imputed|\n",
      "+------+----+----------+------+-----------+------------------+--------------+\n",
      "| Harry|  27|         2| 25000|         27|                 2|         25000|\n",
      "| Jerry|  27|         4| 40000|         27|                 4|         40000|\n",
      "| param|  65|        40|200000|         65|                40|        200000|\n",
      "| Laksh|  54|        30| 30000|         54|                30|         30000|\n",
      "| Babji|  33|        10| 50000|         33|                10|         50000|\n",
      "|  Anni|  32|        10| 55000|         32|                10|         55000|\n",
      "|vishwa|null|      null|105000|         33|                10|        105000|\n",
      "|  null|  34|        10| 38000|         34|                10|         38000|\n",
      "|  null|  36|      null|  null|         36|                10|         40000|\n",
      "+------+----+----------+------+-----------+------------------+--------------+\n",
      "\n"
     ]
    }
   ],
   "source": [
    "imputer.fit(df_pyspark).transform(df_pyspark).show()"
   ]
  }
 ],
 "metadata": {
  "kernelspec": {
   "display_name": "success",
   "language": "python",
   "name": "python3"
  },
  "language_info": {
   "codemirror_mode": {
    "name": "ipython",
    "version": 3
   },
   "file_extension": ".py",
   "mimetype": "text/x-python",
   "name": "python",
   "nbconvert_exporter": "python",
   "pygments_lexer": "ipython3",
   "version": "3.11.4"
  }
 },
 "nbformat": 4,
 "nbformat_minor": 2
}
