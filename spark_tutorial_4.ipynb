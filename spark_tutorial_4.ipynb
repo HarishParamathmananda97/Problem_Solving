{
 "cells": [
  {
   "cell_type": "markdown",
   "metadata": {},
   "source": [
    "### Pyspark Dataframes\n",
    "* Filter Operation\n",
    "* &,|,==\n",
    "* ~\n"
   ]
  },
  {
   "cell_type": "code",
   "execution_count": 1,
   "metadata": {},
   "outputs": [
    {
     "data": {
      "text/html": [
       "\n",
       "            <div>\n",
       "                <p><b>SparkSession - in-memory</b></p>\n",
       "                \n",
       "        <div>\n",
       "            <p><b>SparkContext</b></p>\n",
       "\n",
       "            <p><a href=\"http://host.docker.internal:4040\">Spark UI</a></p>\n",
       "\n",
       "            <dl>\n",
       "              <dt>Version</dt>\n",
       "                <dd><code>v3.4.1</code></dd>\n",
       "              <dt>Master</dt>\n",
       "                <dd><code>local[*]</code></dd>\n",
       "              <dt>AppName</dt>\n",
       "                <dd><code>Practise</code></dd>\n",
       "            </dl>\n",
       "        </div>\n",
       "        \n",
       "            </div>\n",
       "        "
      ],
      "text/plain": [
       "<pyspark.sql.session.SparkSession at 0x17acc4f3550>"
      ]
     },
     "execution_count": 1,
     "metadata": {},
     "output_type": "execute_result"
    }
   ],
   "source": [
    "# import pyspark\n",
    "from pyspark.sql import SparkSession\n",
    "spark = SparkSession.builder.appName('Practise').getOrCreate()\n",
    "spark"
   ]
  },
  {
   "cell_type": "code",
   "execution_count": 2,
   "metadata": {},
   "outputs": [
    {
     "name": "stdout",
     "output_type": "stream",
     "text": [
      "+------+---+----------+------+\n",
      "|  Name|Age|Experience|Salary|\n",
      "+------+---+----------+------+\n",
      "| Harry| 27|         2| 25000|\n",
      "| Jerry| 27|         4| 40000|\n",
      "| param| 65|        40|200000|\n",
      "| Laksh| 54|        30| 30000|\n",
      "| Babji| 33|        10| 50000|\n",
      "|  Anni| 32|        10| 55000|\n",
      "|vishwa|  1|         0|105000|\n",
      "+------+---+----------+------+\n",
      "\n"
     ]
    }
   ],
   "source": [
    "df_pyspark = spark.read.csv('spark_tutorial.csv', header=True, inferSchema=True)\n",
    "df_pyspark.show()"
   ]
  },
  {
   "cell_type": "markdown",
   "metadata": {},
   "source": [
    "\n",
    "## Filter Operations"
   ]
  },
  {
   "cell_type": "code",
   "execution_count": 5,
   "metadata": {},
   "outputs": [
    {
     "name": "stdout",
     "output_type": "stream",
     "text": [
      "+-----+---+----------+------+\n",
      "| Name|Age|Experience|Salary|\n",
      "+-----+---+----------+------+\n",
      "|Harry| 27|         2| 25000|\n",
      "|Laksh| 54|        30| 30000|\n",
      "+-----+---+----------+------+\n",
      "\n",
      "+-----+---+\n",
      "| Name|Age|\n",
      "+-----+---+\n",
      "|Harry| 27|\n",
      "|Laksh| 54|\n",
      "+-----+---+\n",
      "\n"
     ]
    }
   ],
   "source": [
    "### Salary of the people less than or equal to 30000\n",
    "\n",
    "df_pyspark.filter(\"Salary<=30000\").show()\n",
    "\n",
    "# picking two columns while filtering\n",
    "\n",
    "df_pyspark.filter(\"Salary<=30000\").select(['Name','Age']).show()\n",
    "\n",
    "# lesser than, greater than will work. >, >=, <, <=, ==, !="
   ]
  },
  {
   "cell_type": "code",
   "execution_count": 10,
   "metadata": {},
   "outputs": [
    {
     "name": "stdout",
     "output_type": "stream",
     "text": [
      "+-----+---+----------+------+\n",
      "| Name|Age|Experience|Salary|\n",
      "+-----+---+----------+------+\n",
      "|Harry| 27|         2| 25000|\n",
      "|Laksh| 54|        30| 30000|\n",
      "+-----+---+----------+------+\n",
      "\n",
      "+-----+---+----------+------+\n",
      "| Name|Age|Experience|Salary|\n",
      "+-----+---+----------+------+\n",
      "|Harry| 27|         2| 25000|\n",
      "|Laksh| 54|        30| 30000|\n",
      "+-----+---+----------+------+\n",
      "\n",
      "+------+---+----------+------+\n",
      "|  Name|Age|Experience|Salary|\n",
      "+------+---+----------+------+\n",
      "| Harry| 27|         2| 25000|\n",
      "| Jerry| 27|         4| 40000|\n",
      "| param| 65|        40|200000|\n",
      "| Laksh| 54|        30| 30000|\n",
      "| Babji| 33|        10| 50000|\n",
      "|  Anni| 32|        10| 55000|\n",
      "|vishwa|  1|         0|105000|\n",
      "+------+---+----------+------+\n",
      "\n"
     ]
    }
   ],
   "source": [
    "# another way of filtering out.\n",
    "df_pyspark.filter(df_pyspark['Salary']<=30000).show()\n",
    "\n",
    "#nested condition:\n",
    "df_pyspark.filter((df_pyspark['Salary']<=30000) & (df_pyspark['Salary']>=20000)).show() #AND\n",
    "df_pyspark.filter((df_pyspark['Salary']<=30000) | (df_pyspark['Salary']>=20000)).show() #OR"
   ]
  },
  {
   "cell_type": "code",
   "execution_count": 9,
   "metadata": {},
   "outputs": [
    {
     "name": "stdout",
     "output_type": "stream",
     "text": [
      "+------+---+----------+------+\n",
      "|  Name|Age|Experience|Salary|\n",
      "+------+---+----------+------+\n",
      "| Harry| 27|         2| 25000|\n",
      "| Jerry| 27|         4| 40000|\n",
      "| param| 65|        40|200000|\n",
      "| Laksh| 54|        30| 30000|\n",
      "| Babji| 33|        10| 50000|\n",
      "|  Anni| 32|        10| 55000|\n",
      "|vishwa|  1|         0|105000|\n",
      "+------+---+----------+------+\n",
      "\n"
     ]
    }
   ],
   "source": [
    "df_pyspark.show()"
   ]
  },
  {
   "cell_type": "code",
   "execution_count": 12,
   "metadata": {},
   "outputs": [
    {
     "name": "stdout",
     "output_type": "stream",
     "text": [
      "+------+---+----------+------+\n",
      "|  Name|Age|Experience|Salary|\n",
      "+------+---+----------+------+\n",
      "| Jerry| 27|         4| 40000|\n",
      "| param| 65|        40|200000|\n",
      "| Laksh| 54|        30| 30000|\n",
      "| Babji| 33|        10| 50000|\n",
      "|  Anni| 32|        10| 55000|\n",
      "|vishwa|  1|         0|105000|\n",
      "+------+---+----------+------+\n",
      "\n"
     ]
    }
   ],
   "source": [
    "# Not equal to. ~ inverse operation\n",
    "df_pyspark.filter(~(df_pyspark['Salary']<=25000)).show()  # anything greater than 25000 will be displayed."
   ]
  },
  {
   "cell_type": "code",
   "execution_count": null,
   "metadata": {},
   "outputs": [],
   "source": []
  },
  {
   "cell_type": "code",
   "execution_count": null,
   "metadata": {},
   "outputs": [],
   "source": []
  },
  {
   "cell_type": "code",
   "execution_count": null,
   "metadata": {},
   "outputs": [],
   "source": []
  },
  {
   "cell_type": "code",
   "execution_count": null,
   "metadata": {},
   "outputs": [],
   "source": []
  },
  {
   "cell_type": "code",
   "execution_count": null,
   "metadata": {},
   "outputs": [],
   "source": []
  }
 ],
 "metadata": {
  "kernelspec": {
   "display_name": "success",
   "language": "python",
   "name": "python3"
  },
  "language_info": {
   "codemirror_mode": {
    "name": "ipython",
    "version": 3
   },
   "file_extension": ".py",
   "mimetype": "text/x-python",
   "name": "python",
   "nbconvert_exporter": "python",
   "pygments_lexer": "ipython3",
   "version": "3.11.4"
  }
 },
 "nbformat": 4,
 "nbformat_minor": 2
}
