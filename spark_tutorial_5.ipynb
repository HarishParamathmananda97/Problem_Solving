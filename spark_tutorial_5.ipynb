{
 "cells": [
  {
   "cell_type": "markdown",
   "metadata": {},
   "source": [
    "### Pyspark GroupBy and Aggregate Functions"
   ]
  },
  {
   "cell_type": "code",
   "execution_count": 9,
   "metadata": {},
   "outputs": [
    {
     "name": "stdout",
     "output_type": "stream",
     "text": [
      "+-------+------------+--------+\n",
      "|   Name|  Department|  Salary|\n",
      "+-------+------------+--------+\n",
      "|  Harry|Data Science| 25000.0|\n",
      "|  Jerry|Bank Finance| 40000.0|\n",
      "|  param|         IOT|200000.0|\n",
      "|  Laksh|    Big Data| 30000.0|\n",
      "|  Babji|    Big Data| 50000.0|\n",
      "|   Anni|         IOT| 55000.0|\n",
      "| Vishwa|Data Science|105000.0|\n",
      "|Perumal|Data Science|114000.0|\n",
      "| Balaji|         IOT|120300.0|\n",
      "|  Harry|         IOT|  3000.0|\n",
      "|  Harry|    Big Data|  3400.0|\n",
      "|  Jerry|         IOT| 10000.0|\n",
      "+-------+------------+--------+\n",
      "\n",
      "root\n",
      " |-- Name: string (nullable = true)\n",
      " |-- Department: string (nullable = true)\n",
      " |-- Salary: double (nullable = true)\n",
      "\n",
      "None\n"
     ]
    }
   ],
   "source": [
    "from pyspark.sql import SparkSession\n",
    "spark = SparkSession.builder.appName('Practise').getOrCreate()\n",
    "spark\n",
    "\n",
    "df_pyspark = spark.read.csv('spark_tutorial_5.csv', header=True, inferSchema=True)\n",
    "df_pyspark.show()\n",
    "print(df_pyspark.printSchema())"
   ]
  },
  {
   "cell_type": "markdown",
   "metadata": {},
   "source": [
    "* how to convert the type of the column?"
   ]
  },
  {
   "cell_type": "code",
   "execution_count": 15,
   "metadata": {},
   "outputs": [
    {
     "name": "stdout",
     "output_type": "stream",
     "text": [
      "+-------+-----------+\n",
      "|   Name|sum(Salary)|\n",
      "+-------+-----------+\n",
      "| Vishwa|   105000.0|\n",
      "|  Jerry|    50000.0|\n",
      "|   Anni|    55000.0|\n",
      "| Balaji|   120300.0|\n",
      "|  Harry|    31400.0|\n",
      "|  Laksh|    30000.0|\n",
      "|  param|   200000.0|\n",
      "|  Babji|    50000.0|\n",
      "|Perumal|   114000.0|\n",
      "+-------+-----------+\n",
      "\n",
      "+------------+-----------+\n",
      "|  Department|sum(Salary)|\n",
      "+------------+-----------+\n",
      "|         IOT|   388300.0|\n",
      "|    Big Data|    83400.0|\n",
      "|Data Science|   244000.0|\n",
      "|Bank Finance|    40000.0|\n",
      "+------------+-----------+\n",
      "\n",
      "+------------+-----------------+\n",
      "|  Department|      avg(Salary)|\n",
      "+------------+-----------------+\n",
      "|         IOT|          77660.0|\n",
      "|    Big Data|          27800.0|\n",
      "|Data Science|81333.33333333333|\n",
      "|Bank Finance|          40000.0|\n",
      "+------------+-----------------+\n",
      "\n",
      "+------------+-----------+\n",
      "|  Department|max(Salary)|\n",
      "+------------+-----------+\n",
      "|         IOT|   200000.0|\n",
      "|    Big Data|    50000.0|\n",
      "|Data Science|   114000.0|\n",
      "|Bank Finance|    40000.0|\n",
      "+------------+-----------+\n",
      "\n",
      "+------------+-----+\n",
      "|  Department|count|\n",
      "+------------+-----+\n",
      "|         IOT|    5|\n",
      "|    Big Data|    3|\n",
      "|Data Science|    3|\n",
      "|Bank Finance|    1|\n",
      "+------------+-----+\n",
      "\n"
     ]
    }
   ],
   "source": [
    "## Group BY and aggregator\n",
    "\n",
    "###Grouped to find the maximum salary\n",
    "df_pyspark.groupBy('Name').sum().show()\n",
    "\n",
    "#Groupby departments which gives maximum salary\n",
    "df_pyspark.groupBy('Department').sum().show()\n",
    "#Groupby departments which gives maximum salary\n",
    "df_pyspark.groupBy('Department').mean().show()\n",
    "#Groupby departments which gives maximum salary\n",
    "df_pyspark.groupBy('Department').max().show()\n",
    "\n",
    "#count the number of employees working under each department\n",
    "df_pyspark.groupBy('Department').count().show()"
   ]
  },
  {
   "cell_type": "code",
   "execution_count": null,
   "metadata": {},
   "outputs": [],
   "source": []
  },
  {
   "cell_type": "code",
   "execution_count": null,
   "metadata": {},
   "outputs": [],
   "source": []
  },
  {
   "cell_type": "code",
   "execution_count": null,
   "metadata": {},
   "outputs": [],
   "source": []
  },
  {
   "cell_type": "code",
   "execution_count": null,
   "metadata": {},
   "outputs": [],
   "source": []
  },
  {
   "cell_type": "code",
   "execution_count": null,
   "metadata": {},
   "outputs": [],
   "source": []
  },
  {
   "cell_type": "code",
   "execution_count": null,
   "metadata": {},
   "outputs": [],
   "source": []
  },
  {
   "cell_type": "code",
   "execution_count": null,
   "metadata": {},
   "outputs": [],
   "source": []
  },
  {
   "cell_type": "code",
   "execution_count": null,
   "metadata": {},
   "outputs": [],
   "source": []
  },
  {
   "cell_type": "code",
   "execution_count": null,
   "metadata": {},
   "outputs": [],
   "source": []
  }
 ],
 "metadata": {
  "kernelspec": {
   "display_name": "success",
   "language": "python",
   "name": "python3"
  },
  "language_info": {
   "codemirror_mode": {
    "name": "ipython",
    "version": 3
   },
   "file_extension": ".py",
   "mimetype": "text/x-python",
   "name": "python",
   "nbconvert_exporter": "python",
   "pygments_lexer": "ipython3",
   "version": "3.11.4"
  }
 },
 "nbformat": 4,
 "nbformat_minor": 2
}
