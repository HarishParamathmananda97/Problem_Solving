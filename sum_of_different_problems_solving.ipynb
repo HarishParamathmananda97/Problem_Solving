{
 "cells": [
  {
   "cell_type": "code",
   "execution_count": 9,
   "metadata": {},
   "outputs": [
    {
     "ename": "ValueError",
     "evalue": "invalid literal for int() with base 10: ''",
     "output_type": "error",
     "traceback": [
      "\u001b[1;31m---------------------------------------------------------------------------\u001b[0m",
      "\u001b[1;31mValueError\u001b[0m                                Traceback (most recent call last)",
      "Cell \u001b[1;32mIn [9], line 8\u001b[0m\n\u001b[0;32m      1\u001b[0m \u001b[38;5;66;03m#C:\\Users\\harish\\git\\Problem_Solving\\add_up_to_given_sum.py\u001b[39;00m\n\u001b[0;32m      2\u001b[0m \u001b[38;5;66;03m#problem1: Given a list of integer, write a python function to find the two numbers such that they add up to a specific target.\u001b[39;00m\n\u001b[0;32m      3\u001b[0m \u001b[38;5;124;03m\"\"\"\u001b[39;00m\n\u001b[0;32m      4\u001b[0m \u001b[38;5;124;03msample input: 2, 7, 11, 15\u001b[39;00m\n\u001b[0;32m      5\u001b[0m \u001b[38;5;124;03mtarget = 9\u001b[39;00m\n\u001b[0;32m      6\u001b[0m \u001b[38;5;124;03msample output: [0, 1](indices of 2 and 7) #first found enough.\u001b[39;00m\n\u001b[0;32m      7\u001b[0m \u001b[38;5;124;03m\"\"\"\u001b[39;00m\n\u001b[1;32m----> 8\u001b[0m user_input \u001b[38;5;241m=\u001b[39m \u001b[38;5;28;43mlist\u001b[39;49m\u001b[43m(\u001b[49m\u001b[38;5;28;43mmap\u001b[39;49m\u001b[43m(\u001b[49m\u001b[38;5;28;43mint\u001b[39;49m\u001b[43m,\u001b[49m\u001b[43m \u001b[49m\u001b[38;5;28;43minput\u001b[39;49m\u001b[43m(\u001b[49m\u001b[38;5;124;43m'\u001b[39;49m\u001b[38;5;124;43mEnter the input with space: \u001b[39;49m\u001b[38;5;124;43m'\u001b[39;49m\u001b[43m)\u001b[49m\u001b[38;5;241;43m.\u001b[39;49m\u001b[43msplit\u001b[49m\u001b[43m(\u001b[49m\u001b[38;5;124;43m'\u001b[39;49m\u001b[38;5;124;43m \u001b[39;49m\u001b[38;5;124;43m'\u001b[39;49m\u001b[43m)\u001b[49m\u001b[43m)\u001b[49m\u001b[43m)\u001b[49m\n\u001b[0;32m      9\u001b[0m target \u001b[38;5;241m=\u001b[39m \u001b[38;5;28mint\u001b[39m(\u001b[38;5;28minput\u001b[39m(\u001b[38;5;124m'\u001b[39m\u001b[38;5;124mEnter the target to match: \u001b[39m\u001b[38;5;124m'\u001b[39m))\n\u001b[0;32m     11\u001b[0m \u001b[38;5;124;03m\"\"\"\u001b[39;00m\n\u001b[0;32m     12\u001b[0m \u001b[38;5;124;03mAlgorithm part:\u001b[39;00m\n\u001b[0;32m     13\u001b[0m \u001b[38;5;124;03mStep1: Start\u001b[39;00m\n\u001b[1;32m   (...)\u001b[0m\n\u001b[0;32m     17\u001b[0m \n\u001b[0;32m     18\u001b[0m \u001b[38;5;124;03m\"\"\"\u001b[39;00m\n",
      "\u001b[1;31mValueError\u001b[0m: invalid literal for int() with base 10: ''"
     ]
    }
   ],
   "source": [
    "#C:\\Users\\harish\\git\\Problem_Solving\\add_up_to_given_sum.py\n",
    "#problem1: Given a list of integer, write a python function to find the two numbers such that they add up to a specific target.\n",
    "\"\"\"\n",
    "sample input: 2, 7, 11, 15\n",
    "target = 9\n",
    "sample output: [0, 1](indices of 2 and 7) #first found enough.\n",
    "\"\"\"\n",
    "user_input = list(map(int, input('Enter the input with space: ').split(' ')))\n",
    "target = int(input('Enter the target to match: '))\n",
    "\n",
    "\"\"\"\n",
    "Algorithm part:\n",
    "Step1: Start\n",
    "Step2: Sum of two numbers should match the target. x + y = target -> x = target - y\n",
    "Step3: We should also return the first index of those numbers.\n",
    "Step4: End\n",
    "\n",
    "\"\"\"\n",
    "\n",
    "# user_input = [5, 10, 2, 3, 4, 7]\n",
    "# target = 8\n",
    "\n",
    "#Using two loop \n",
    "\n",
    "for i in range(len(user_input)):\n",
    "    for j in range(i + 1, len(user_input)):\n",
    "        # print(\"index of i, j is: \", i, j, end = '')\n",
    "        # print(\"value of i, j is: \", user_input[i], user_input[j])\n",
    "        if user_input[i] + user_input[j] == target:\n",
    "            print(\"Target number found in:\", i + 1, j + 1)\n",
    "            break\n",
    "\n",
    "#Using single loop\n",
    "        \n",
    "founded_number = []\n",
    "for i in range(len(user_input)):\n",
    "     found_num = target - user_input[i] \n",
    "     if found_num in user_input and found_num not in founded_number and user_input.index(found_num) != i:\n",
    "        print(\"Target number found in:\", user_input.index(found_num) + 1  , i + 1)\n",
    "        founded_number.append(found_num)\n",
    "        founded_number.append(user_input[i])\n",
    "\n",
    "print(\"done.\")\n",
    "\n"
   ]
  },
  {
   "cell_type": "code",
   "execution_count": null,
   "metadata": {},
   "outputs": [],
   "source": [
    "#problem2: Implement a function to perform a binary search on a sorted array and return the index of the target element. if the element is not found, return -1.\n",
    "\"\"\"\n",
    "sample input: [1, 3, 5, 7, 9, 11, 13]\n",
    "target = 7\n",
    "sample output: 3 (index of 7)\n",
    "\"\"\""
   ]
  },
  {
   "cell_type": "code",
   "execution_count": 14,
   "metadata": {},
   "outputs": [
    {
     "name": "stdout",
     "output_type": "stream",
     "text": [
      "JerryH HyrreJ\n"
     ]
    }
   ],
   "source": [
    "# Problem3: Reverse a string in-place\n",
    "\"\"\"\n",
    "sample input: hello\n",
    "sample output: olleh\n",
    "\"\"\"\n",
    "\n",
    "str = input(\"Enter the string to reverse: \")\n",
    "str_r = str[::-1]\n",
    "print(str, str_r)\n",
    "\n",
    "letters = []\n",
    "for letter in str:\n",
    "    letters.append(letter)\n",
    "\n",
    "print(letters)\n",
    "# letters.sort(reverse= True)  # not working.\n",
    "str_r = ''.join(letters)\n",
    "print(str, str_r)\n"
   ]
  },
  {
   "cell_type": "code",
   "execution_count": null,
   "metadata": {},
   "outputs": [],
   "source": [
    "#Problem4: Implement a function to check if a given string is palindrome.\n",
    "\"\"\"\n",
    "Sample input: a man, a plan, a canal: Panama\n",
    "Sample output: True\n",
    "\"\"\"\n"
   ]
  },
  {
   "cell_type": "code",
   "execution_count": null,
   "metadata": {},
   "outputs": [],
   "source": [
    "#Problem5: Find the Missing Number: Given a list of numbers from 1 to n, one number is missing. Find that missing number.\n",
    "\"\"\"\n",
    "sample input: 1 2 3 4 5 6 7 9 10\n",
    "sample output: 8\n",
    "\"\"\""
   ]
  },
  {
   "cell_type": "code",
   "execution_count": null,
   "metadata": {},
   "outputs": [],
   "source": [
    "#Problem6: Count the words in a string. write a function to count the occurrences of each word in a given string.\n"
   ]
  },
  {
   "cell_type": "code",
   "execution_count": null,
   "metadata": {},
   "outputs": [],
   "source": [
    "#Problem7: Anagrams: check if two strings are anagrams to each other\n"
   ]
  },
  {
   "cell_type": "code",
   "execution_count": null,
   "metadata": {},
   "outputs": [],
   "source": [
    "#Problem8: Find the Maximum Subarray sum: write a function to find the maximum sum of a contiguous subarray within a one-dimensional array of the numbers.\n"
   ]
  },
  {
   "cell_type": "code",
   "execution_count": null,
   "metadata": {},
   "outputs": [],
   "source": [
    "#Problem9: Implement a Queue using Stacks: Implement a queue data structure using two stacks."
   ]
  },
  {
   "cell_type": "code",
   "execution_count": null,
   "metadata": {},
   "outputs": [],
   "source": [
    "#Problem10: Merge Two Sorted Lists: function to merge two sorted linked lists into a single sorted linked list."
   ]
  },
  {
   "cell_type": "code",
   "execution_count": null,
   "metadata": {},
   "outputs": [],
   "source": [
    "#Problem11: Reverse a linked list"
   ]
  }
 ],
 "metadata": {
  "kernelspec": {
   "display_name": "Python 3",
   "language": "python",
   "name": "python3"
  },
  "language_info": {
   "codemirror_mode": {
    "name": "ipython",
    "version": 3
   },
   "file_extension": ".py",
   "mimetype": "text/x-python",
   "name": "python",
   "nbconvert_exporter": "python",
   "pygments_lexer": "ipython3",
   "version": "3.10.3"
  }
 },
 "nbformat": 4,
 "nbformat_minor": 2
}
