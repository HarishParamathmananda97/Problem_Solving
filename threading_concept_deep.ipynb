{
 "cells": [
  {
   "cell_type": "code",
   "execution_count": 2,
   "metadata": {},
   "outputs": [
    {
     "name": "stdout",
     "output_type": "stream",
     "text": [
      "Start Time is:  1710764495.0376391\n",
      "Calculate the square numbers\n",
      "Square 4\n",
      "Square 9\n",
      "Square 64\n",
      "Square 81\n",
      "Calculate the cube of numbers\n",
      "Cube:  8\n",
      "Cube:  27\n",
      "Cube:  512\n",
      "Cube:  729\n",
      "End time is:  1.6902213096618652\n"
     ]
    }
   ],
   "source": [
    "#normal program without thread\n",
    "\n",
    "import time\n",
    "\n",
    "def calc_square(numbers):\n",
    "    print(\"Calculate the square numbers\")\n",
    "    for n in numbers:\n",
    "        time.sleep(0.2)\n",
    "        print('Square', n * n)\n",
    "    \n",
    "def calc_cubic(numbers):\n",
    "    print(\"Calculate the cube of numbers\")\n",
    "    for n in numbers:\n",
    "        time.sleep(0.2)\n",
    "        print('Cube: ', n * n * n)\n",
    "    \n",
    "arr = [2, 3, 8, 9]\n",
    "\n",
    "start_time = time.time()\n",
    "print(\"Start Time is: \", start_time)\n",
    "calc_square(arr)\n",
    "calc_cubic(arr)\n",
    "print(\"done in:\")\n",
    "end_time = time.time() - start_time\n",
    "print(\"End time is: \", end_time)\n",
    "print(\"Hah... I am done with all my work now! \")"
   ]
  },
  {
   "cell_type": "code",
   "execution_count": 4,
   "metadata": {},
   "outputs": [
    {
     "name": "stdout",
     "output_type": "stream",
     "text": [
      "Start Time is:  1710764799.6260395\n",
      "Calculate the square numbers\n",
      "Calculate the cube of numbers\n",
      "Square 4\n",
      "Cube:  8\n",
      "Square 9\n",
      "Cube:  27\n",
      "Square 64\n",
      "Cube:  512\n",
      "Square 81\n",
      "Cube:  729\n",
      "done in:\n",
      "End time is:  0.8107640743255615\n",
      "Hah... I am done with all my work now! \n"
     ]
    }
   ],
   "source": [
    "import time \n",
    "import threading \n",
    "\n",
    "\n",
    "def calc_square(numbers):\n",
    "    print(\"Calculate the square numbers\")\n",
    "    for n in numbers:\n",
    "        time.sleep(0.2)\n",
    "        print('Square', n * n)\n",
    "    \n",
    "def calc_cubic(numbers):\n",
    "    print(\"Calculate the cube of numbers\")\n",
    "    for n in numbers:\n",
    "        time.sleep(0.2)\n",
    "        print('Cube: ', n * n * n)\n",
    "    \n",
    "arr = [2, 3, 8, 9]\n",
    "\n",
    "start_time = time.time()\n",
    "print(\"Start Time is: \", start_time)\n",
    "\n",
    "t1 = threading.Thread(target = calc_square, args = (arr, ))\n",
    "t2 = threading.Thread(target = calc_cubic, args= (arr,))\n",
    "\n",
    "t1.start()\n",
    "t2.start()\n",
    "\n",
    "# join will wait until the another thread is done.\n",
    "t1.join()\n",
    "t2.join()\n",
    "\n",
    "print(\"done in:\")\n",
    "end_time = time.time() - start_time\n",
    "print(\"End time is: \", end_time)\n",
    "print(\"Hah... I am done with all my work now! \")"
   ]
  }
 ],
 "metadata": {
  "kernelspec": {
   "display_name": "success",
   "language": "python",
   "name": "python3"
  },
  "language_info": {
   "codemirror_mode": {
    "name": "ipython",
    "version": 3
   },
   "file_extension": ".py",
   "mimetype": "text/x-python",
   "name": "python",
   "nbconvert_exporter": "python",
   "pygments_lexer": "ipython3",
   "version": "3.11.4"
  }
 },
 "nbformat": 4,
 "nbformat_minor": 2
}
